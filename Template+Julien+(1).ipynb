{
 "cells": [
  {
   "cell_type": "markdown",
   "id": "e7316a32",
   "metadata": {},
   "source": [
    "<div style=\" background-color: RGB(0,114,200);\" >\n",
    "<h1 style=\"margin: auto; padding: 20px 0; color:#fff; text-align: center\">PROJET 4 DATA ANALYST</h1>\n",
    "<h2 style=\"margin: auto; padding: 20px 0; color:#fff; text-align: center\">Réalisez une étude de santé publique avec R ou Python\n",
    "</h2>\n",
    "</div>"
   ]
  },
  {
   "cell_type": "markdown",
   "id": "6e00fa8a",
   "metadata": {},
   "source": [
    "# OBJECTIF DE CE NOTEBOOK\n",
    "\n",
    "Bienvenue dans l'outil plébiscité par les analystes de données Jupyter.\n",
    "\n",
    "Il s'agit d'un outil permettant de mixer et d'alterner codes, textes et graphique.\n",
    "\n",
    "Cet outil est formidable pour plusieurs raisons:\n",
    "\n",
    "+ il permet de tester des lignes de codes au fur et à mesure de votre rédaction, de constater immédiatement le résultat d'un instruction, de la corriger si nécessaire.\n",
    "+ De rédiger du texte pour expliquer l'approche suivie ou les résultats d'une analyse et de le mettre en forme grâce à du code html ou plus simple avec **Markdown**\n",
    "+ d'agrémenter de graphiques\n",
    "\n",
    "Pour vous aider dans vos premiers pas à l'usage de Jupyter et de Python, nous avons rédigé ce notebook en vous indiquant les instructions à suivre.\n",
    "\n",
    "Il vous suffit pour cela de saisir le code Python répondant à l'instruction donnée.\n",
    "\n",
    "Vous verrez de temps à autre le code Python répondant à une instruction donnée mais cela est fait pour vous aider à comprendre la nature du travail qui vous est demandée.\n",
    "\n",
    "Et garder à l'esprit, qu'il n'y a pas de solution unique pour résoudre un problème et qu'il y a autant de résolutions de problèmes que de développeurs ;)...\n",
    "\n"
   ]
  },
  {
   "cell_type": "markdown",
   "id": "c33bcf57",
   "metadata": {},
   "source": [
    "Note jeremy \n",
    "Est ce qu'il faut faire le calcul de la sous nutrition sur les pays qu'on a ? \n",
    "Est ce qu'il faut faire des graphiques ?\n",
    "Rajouter le soja\n",
    "La liste des céréales est difficile a trouver ..."
   ]
  },
  {
   "cell_type": "markdown",
   "id": "9dad8326",
   "metadata": {},
   "source": [
    "<div style=\"background-color: RGB(0,150,250);\" >\n",
    "<h2 style=\"margin: auto; padding: 20px; color:#fff; \">Etape 1 - Importation des librairies et chargement des fichiers</h2>\n",
    "</div>"
   ]
  },
  {
   "cell_type": "markdown",
   "id": "4ee69457",
   "metadata": {},
   "source": [
    "<div style=\"border: 1px solid RGB(0,150,250);\" >\n",
    "<h3 style=\"margin: auto; padding: 20px; color: RGB(0,150,250); \">1.1 - Importation des librairies</h3>\n",
    "</div>"
   ]
  },
  {
   "cell_type": "code",
   "id": "ffe62b56",
   "metadata": {
    "ExecuteTime": {
     "end_time": "2024-12-21T16:45:13.521579Z",
     "start_time": "2024-12-21T16:45:12.943152Z"
    }
   },
   "source": [
    "from heapq import merge\n",
    "from itertools import groupby\n",
    "\n",
    "#Importation de la librairie Pandas\n",
    "import pandas as pd\n",
    "from numpy.lib.recfunctions import join_by"
   ],
   "outputs": [],
   "execution_count": 1
  },
  {
   "cell_type": "markdown",
   "id": "8bd8e7ed",
   "metadata": {},
   "source": [
    "<div style=\"border: 1px solid RGB(0,150,250);\" >\n",
    "<h3 style=\"margin: auto; padding: 20px; color: RGB(0,150,250); \">1.2 - Chargement des fichiers Excel</h3>\n",
    "</div>"
   ]
  },
  {
   "cell_type": "code",
   "id": "b304f108",
   "metadata": {
    "ExecuteTime": {
     "end_time": "2024-12-08T13:58:54.137247Z",
     "start_time": "2024-12-08T13:58:54.068569Z"
    }
   },
   "source": [
    "#Importation du fichier population.csv\n",
    "population = pd.read_csv('population.csv')\n",
    "\n",
    "#Importation du fichier dispo_alimentaire.csv\n",
    "dispo_alimentaire = pd.read_csv('dispo_alimentaire.csv')\n",
    "\n",
    "#Importation du fichier aide_alimentaire.csv\n",
    "aide_alimentaire = pd.read_csv('aide_alimentaire.csv')\n",
    "\n",
    "#Importation du fichier sous_nutrition.csv\n",
    "nutrition = pd.read_csv('sous_nutrition.csv')"
   ],
   "outputs": [],
   "execution_count": 2
  },
  {
   "cell_type": "markdown",
   "id": "1249847a",
   "metadata": {},
   "source": [
    "<div style=\"background-color: RGB(0,150,250);\" >\n",
    "<h2 style=\"margin: auto; padding: 20px; color:#fff; \">Etape 2 - Analyse exploratoire des fichiers</h2>\n",
    "</div>"
   ]
  },
  {
   "cell_type": "markdown",
   "id": "235e6e91",
   "metadata": {},
   "source": [
    "<div style=\"border: 1px solid RGB(0,150,250);\" >\n",
    "<h3 style=\"margin: auto; padding: 20px; color: RGB(0,150,250); \">2.1 - Analyse exploratoire du fichier population</h3>\n",
    "</div>"
   ]
  },
  {
   "cell_type": "code",
   "id": "e6b639d2",
   "metadata": {
    "ExecuteTime": {
     "end_time": "2024-12-08T13:58:54.328538Z",
     "start_time": "2024-12-08T13:58:54.322403Z"
    }
   },
   "source": [
    "#Afficher les dimensions du dataset\n",
    "print(\"Le tableau comporte {} observation(s) ou article(s)\".format(population.shape[0]))\n",
    "print(\"Le tableau comporte {} colonne(s)\".format(population.shape[1]))"
   ],
   "outputs": [
    {
     "name": "stdout",
     "output_type": "stream",
     "text": [
      "Le tableau comporte 1416 observation(s) ou article(s)\n",
      "Le tableau comporte 3 colonne(s)\n"
     ]
    }
   ],
   "execution_count": 3
  },
  {
   "cell_type": "code",
   "id": "fbbdfd5c",
   "metadata": {
    "ExecuteTime": {
     "end_time": "2024-12-08T13:58:54.377039Z",
     "start_time": "2024-12-08T13:58:54.364455Z"
    }
   },
   "source": [
    "#Consulter le nombre de colonnes\n",
    "print(\"Le tableau comporte {} colonne\".format(population.shape[0]))\n",
    "#La nature des données dans chacune des colonnes\n",
    "print(\"Voici le type de données de chaque colonne :\")\n",
    "print(population.dtypes) \n",
    "\n",
    "#Le nombre de valeurs présentes dans chacune des colonnes\n",
    "print(\"Voici les valeurs présente dans les colonnes :\")\n",
    "print(population.count())\n",
    "\n"
   ],
   "outputs": [
    {
     "name": "stdout",
     "output_type": "stream",
     "text": [
      "Le tableau comporte 1416 colonne\n",
      "Voici le type de données de chaque colonne :\n",
      "Zone       object\n",
      "Année       int64\n",
      "Valeur    float64\n",
      "dtype: object\n",
      "Voici les valeurs présente dans les colonnes :\n",
      "Zone      1416\n",
      "Année     1416\n",
      "Valeur    1416\n",
      "dtype: int64\n"
     ]
    }
   ],
   "execution_count": 4
  },
  {
   "metadata": {
    "ExecuteTime": {
     "end_time": "2024-12-08T13:58:54.429230Z",
     "start_time": "2024-12-08T13:58:54.409186Z"
    }
   },
   "cell_type": "code",
   "source": "population.info()",
   "id": "c5d9e86037a1c394",
   "outputs": [
    {
     "name": "stdout",
     "output_type": "stream",
     "text": [
      "<class 'pandas.core.frame.DataFrame'>\n",
      "RangeIndex: 1416 entries, 0 to 1415\n",
      "Data columns (total 3 columns):\n",
      " #   Column  Non-Null Count  Dtype  \n",
      "---  ------  --------------  -----  \n",
      " 0   Zone    1416 non-null   object \n",
      " 1   Année   1416 non-null   int64  \n",
      " 2   Valeur  1416 non-null   float64\n",
      "dtypes: float64(1), int64(1), object(1)\n",
      "memory usage: 33.3+ KB\n"
     ]
    }
   ],
   "execution_count": 5
  },
  {
   "cell_type": "code",
   "id": "3e50d9e6",
   "metadata": {
    "ExecuteTime": {
     "end_time": "2024-12-08T13:58:54.487062Z",
     "start_time": "2024-12-08T13:58:54.458819Z"
    }
   },
   "source": [
    "#Affichage les 5 premières lignes de la table\n",
    "population.head(5)\n"
   ],
   "outputs": [
    {
     "data": {
      "text/plain": [
       "          Zone  Année     Valeur\n",
       "0  Afghanistan   2013  32269.589\n",
       "1  Afghanistan   2014  33370.794\n",
       "2  Afghanistan   2015  34413.603\n",
       "3  Afghanistan   2016  35383.032\n",
       "4  Afghanistan   2017  36296.113"
      ],
      "text/html": [
       "<div>\n",
       "<style scoped>\n",
       "    .dataframe tbody tr th:only-of-type {\n",
       "        vertical-align: middle;\n",
       "    }\n",
       "\n",
       "    .dataframe tbody tr th {\n",
       "        vertical-align: top;\n",
       "    }\n",
       "\n",
       "    .dataframe thead th {\n",
       "        text-align: right;\n",
       "    }\n",
       "</style>\n",
       "<table border=\"1\" class=\"dataframe\">\n",
       "  <thead>\n",
       "    <tr style=\"text-align: right;\">\n",
       "      <th></th>\n",
       "      <th>Zone</th>\n",
       "      <th>Année</th>\n",
       "      <th>Valeur</th>\n",
       "    </tr>\n",
       "  </thead>\n",
       "  <tbody>\n",
       "    <tr>\n",
       "      <th>0</th>\n",
       "      <td>Afghanistan</td>\n",
       "      <td>2013</td>\n",
       "      <td>32269.589</td>\n",
       "    </tr>\n",
       "    <tr>\n",
       "      <th>1</th>\n",
       "      <td>Afghanistan</td>\n",
       "      <td>2014</td>\n",
       "      <td>33370.794</td>\n",
       "    </tr>\n",
       "    <tr>\n",
       "      <th>2</th>\n",
       "      <td>Afghanistan</td>\n",
       "      <td>2015</td>\n",
       "      <td>34413.603</td>\n",
       "    </tr>\n",
       "    <tr>\n",
       "      <th>3</th>\n",
       "      <td>Afghanistan</td>\n",
       "      <td>2016</td>\n",
       "      <td>35383.032</td>\n",
       "    </tr>\n",
       "    <tr>\n",
       "      <th>4</th>\n",
       "      <td>Afghanistan</td>\n",
       "      <td>2017</td>\n",
       "      <td>36296.113</td>\n",
       "    </tr>\n",
       "  </tbody>\n",
       "</table>\n",
       "</div>"
      ]
     },
     "execution_count": 6,
     "metadata": {},
     "output_type": "execute_result"
    }
   ],
   "execution_count": 6
  },
  {
   "cell_type": "code",
   "id": "ab1a4af4",
   "metadata": {
    "ExecuteTime": {
     "end_time": "2024-12-08T13:58:54.536860Z",
     "start_time": "2024-12-08T13:58:54.520057Z"
    }
   },
   "source": [
    "#Nous allons harmoniser les unités. Pour cela, nous avons décidé de multiplier la population par 1000\n",
    "#Multiplication de la colonne valeur par 1000\n",
    "population = pd.DataFrame(population)\n",
    "population['Valeur'] = population['Valeur'] * 1000\n",
    "\n",
    "print(population)"
   ],
   "outputs": [
    {
     "name": "stdout",
     "output_type": "stream",
     "text": [
      "             Zone  Année      Valeur\n",
      "0     Afghanistan   2013  32269589.0\n",
      "1     Afghanistan   2014  33370794.0\n",
      "2     Afghanistan   2015  34413603.0\n",
      "3     Afghanistan   2016  35383032.0\n",
      "4     Afghanistan   2017  36296113.0\n",
      "...           ...    ...         ...\n",
      "1411     Zimbabwe   2014  13586707.0\n",
      "1412     Zimbabwe   2015  13814629.0\n",
      "1413     Zimbabwe   2016  14030331.0\n",
      "1414     Zimbabwe   2017  14236595.0\n",
      "1415     Zimbabwe   2018  14438802.0\n",
      "\n",
      "[1416 rows x 3 columns]\n"
     ]
    }
   ],
   "execution_count": 7
  },
  {
   "cell_type": "code",
   "id": "38836b61",
   "metadata": {
    "ExecuteTime": {
     "end_time": "2024-12-08T13:58:54.601205Z",
     "start_time": "2024-12-08T13:58:54.589706Z"
    }
   },
   "source": [
    "#changement du nom de la colonne Valeur par Population\n",
    "population.rename(columns={'Valeur': 'Population'} , inplace=True)\n",
    "\n",
    "print(population)"
   ],
   "outputs": [
    {
     "name": "stdout",
     "output_type": "stream",
     "text": [
      "             Zone  Année  Population\n",
      "0     Afghanistan   2013  32269589.0\n",
      "1     Afghanistan   2014  33370794.0\n",
      "2     Afghanistan   2015  34413603.0\n",
      "3     Afghanistan   2016  35383032.0\n",
      "4     Afghanistan   2017  36296113.0\n",
      "...           ...    ...         ...\n",
      "1411     Zimbabwe   2014  13586707.0\n",
      "1412     Zimbabwe   2015  13814629.0\n",
      "1413     Zimbabwe   2016  14030331.0\n",
      "1414     Zimbabwe   2017  14236595.0\n",
      "1415     Zimbabwe   2018  14438802.0\n",
      "\n",
      "[1416 rows x 3 columns]\n"
     ]
    }
   ],
   "execution_count": 8
  },
  {
   "cell_type": "code",
   "id": "ff707561",
   "metadata": {
    "ExecuteTime": {
     "end_time": "2024-12-08T13:58:54.686638Z",
     "start_time": "2024-12-08T13:58:54.674543Z"
    }
   },
   "source": [
    "#Affichage les 5 premières lignes de la table pour voir les modifications\n",
    "print(population.head(5))"
   ],
   "outputs": [
    {
     "name": "stdout",
     "output_type": "stream",
     "text": [
      "          Zone  Année  Population\n",
      "0  Afghanistan   2013  32269589.0\n",
      "1  Afghanistan   2014  33370794.0\n",
      "2  Afghanistan   2015  34413603.0\n",
      "3  Afghanistan   2016  35383032.0\n",
      "4  Afghanistan   2017  36296113.0\n"
     ]
    }
   ],
   "execution_count": 9
  },
  {
   "cell_type": "markdown",
   "id": "4224b896",
   "metadata": {},
   "source": [
    "<div style=\"border: 1px solid RGB(0,150,250);\" >\n",
    "<h3 style=\"margin: auto; padding: 20px; color: RGB(0,150,250); \">2.2 - Analyse exploratoire du fichier disponibilité alimentaire</h3>\n",
    "</div>"
   ]
  },
  {
   "cell_type": "code",
   "id": "38f5b838",
   "metadata": {
    "ExecuteTime": {
     "end_time": "2024-12-08T13:58:54.785737Z",
     "start_time": "2024-12-08T13:58:54.776396Z"
    }
   },
   "source": [
    "#Afficher les dimensions du dataset\n",
    "print(\"Le tableau comporte {} observation(s) ou article(s)\".format(dispo_alimentaire.shape[0]))\n",
    "print(\"Le tableau comporte {} colonne(s)\".format(dispo_alimentaire.shape[1]))"
   ],
   "outputs": [
    {
     "name": "stdout",
     "output_type": "stream",
     "text": [
      "Le tableau comporte 15605 observation(s) ou article(s)\n",
      "Le tableau comporte 18 colonne(s)\n"
     ]
    }
   ],
   "execution_count": 10
  },
  {
   "cell_type": "code",
   "id": "99735a22",
   "metadata": {
    "ExecuteTime": {
     "end_time": "2024-12-08T13:58:54.937935Z",
     "start_time": "2024-12-08T13:58:54.931895Z"
    }
   },
   "source": [
    "#Consulter le nombre de colonnes\n",
    "print(\"Le tableau comporte {} colonne\".format(dispo_alimentaire.shape[1]))\n",
    "#dispo_alimentaire.info()"
   ],
   "outputs": [
    {
     "name": "stdout",
     "output_type": "stream",
     "text": [
      "Le tableau comporte 18 colonne\n"
     ]
    }
   ],
   "execution_count": 11
  },
  {
   "cell_type": "code",
   "id": "0058032d",
   "metadata": {
    "ExecuteTime": {
     "end_time": "2024-12-08T13:58:55.034382Z",
     "start_time": "2024-12-08T13:58:54.995539Z"
    }
   },
   "source": [
    "#Affichage les 5 premières lignes de la table\n",
    "dispo_alimentaire.head(5)"
   ],
   "outputs": [
    {
     "data": {
      "text/plain": [
       "          Zone                Produit   Origine  Aliments pour animaux  \\\n",
       "0  Afghanistan       Abats Comestible   animale                    NaN   \n",
       "1  Afghanistan        Agrumes, Autres  vegetale                    NaN   \n",
       "2  Afghanistan  Aliments pour enfants  vegetale                    NaN   \n",
       "3  Afghanistan                 Ananas  vegetale                    NaN   \n",
       "4  Afghanistan                Bananes  vegetale                    NaN   \n",
       "\n",
       "   Autres Utilisations  Disponibilité alimentaire (Kcal/personne/jour)  \\\n",
       "0                  NaN                                             5.0   \n",
       "1                  NaN                                             1.0   \n",
       "2                  NaN                                             1.0   \n",
       "3                  NaN                                             0.0   \n",
       "4                  NaN                                             4.0   \n",
       "\n",
       "   Disponibilité alimentaire en quantité (kg/personne/an)  \\\n",
       "0                                               1.72        \n",
       "1                                               1.29        \n",
       "2                                               0.06        \n",
       "3                                               0.00        \n",
       "4                                               2.70        \n",
       "\n",
       "   Disponibilité de matière grasse en quantité (g/personne/jour)  \\\n",
       "0                                               0.20               \n",
       "1                                               0.01               \n",
       "2                                               0.01               \n",
       "3                                                NaN               \n",
       "4                                               0.02               \n",
       "\n",
       "   Disponibilité de protéines en quantité (g/personne/jour)  \\\n",
       "0                                               0.77          \n",
       "1                                               0.02          \n",
       "2                                               0.03          \n",
       "3                                                NaN          \n",
       "4                                               0.05          \n",
       "\n",
       "   Disponibilité intérieure  Exportations - Quantité  Importations - Quantité  \\\n",
       "0                      53.0                      NaN                      NaN   \n",
       "1                      41.0                      2.0                     40.0   \n",
       "2                       2.0                      NaN                      2.0   \n",
       "3                       0.0                      NaN                      0.0   \n",
       "4                      82.0                      NaN                     82.0   \n",
       "\n",
       "   Nourriture  Pertes  Production  Semences  Traitement  Variation de stock  \n",
       "0        53.0     NaN        53.0       NaN         NaN                 NaN  \n",
       "1        39.0     2.0         3.0       NaN         NaN                 NaN  \n",
       "2         2.0     NaN         NaN       NaN         NaN                 NaN  \n",
       "3         0.0     NaN         NaN       NaN         NaN                 NaN  \n",
       "4        82.0     NaN         NaN       NaN         NaN                 NaN  "
      ],
      "text/html": [
       "<div>\n",
       "<style scoped>\n",
       "    .dataframe tbody tr th:only-of-type {\n",
       "        vertical-align: middle;\n",
       "    }\n",
       "\n",
       "    .dataframe tbody tr th {\n",
       "        vertical-align: top;\n",
       "    }\n",
       "\n",
       "    .dataframe thead th {\n",
       "        text-align: right;\n",
       "    }\n",
       "</style>\n",
       "<table border=\"1\" class=\"dataframe\">\n",
       "  <thead>\n",
       "    <tr style=\"text-align: right;\">\n",
       "      <th></th>\n",
       "      <th>Zone</th>\n",
       "      <th>Produit</th>\n",
       "      <th>Origine</th>\n",
       "      <th>Aliments pour animaux</th>\n",
       "      <th>Autres Utilisations</th>\n",
       "      <th>Disponibilité alimentaire (Kcal/personne/jour)</th>\n",
       "      <th>Disponibilité alimentaire en quantité (kg/personne/an)</th>\n",
       "      <th>Disponibilité de matière grasse en quantité (g/personne/jour)</th>\n",
       "      <th>Disponibilité de protéines en quantité (g/personne/jour)</th>\n",
       "      <th>Disponibilité intérieure</th>\n",
       "      <th>Exportations - Quantité</th>\n",
       "      <th>Importations - Quantité</th>\n",
       "      <th>Nourriture</th>\n",
       "      <th>Pertes</th>\n",
       "      <th>Production</th>\n",
       "      <th>Semences</th>\n",
       "      <th>Traitement</th>\n",
       "      <th>Variation de stock</th>\n",
       "    </tr>\n",
       "  </thead>\n",
       "  <tbody>\n",
       "    <tr>\n",
       "      <th>0</th>\n",
       "      <td>Afghanistan</td>\n",
       "      <td>Abats Comestible</td>\n",
       "      <td>animale</td>\n",
       "      <td>NaN</td>\n",
       "      <td>NaN</td>\n",
       "      <td>5.0</td>\n",
       "      <td>1.72</td>\n",
       "      <td>0.20</td>\n",
       "      <td>0.77</td>\n",
       "      <td>53.0</td>\n",
       "      <td>NaN</td>\n",
       "      <td>NaN</td>\n",
       "      <td>53.0</td>\n",
       "      <td>NaN</td>\n",
       "      <td>53.0</td>\n",
       "      <td>NaN</td>\n",
       "      <td>NaN</td>\n",
       "      <td>NaN</td>\n",
       "    </tr>\n",
       "    <tr>\n",
       "      <th>1</th>\n",
       "      <td>Afghanistan</td>\n",
       "      <td>Agrumes, Autres</td>\n",
       "      <td>vegetale</td>\n",
       "      <td>NaN</td>\n",
       "      <td>NaN</td>\n",
       "      <td>1.0</td>\n",
       "      <td>1.29</td>\n",
       "      <td>0.01</td>\n",
       "      <td>0.02</td>\n",
       "      <td>41.0</td>\n",
       "      <td>2.0</td>\n",
       "      <td>40.0</td>\n",
       "      <td>39.0</td>\n",
       "      <td>2.0</td>\n",
       "      <td>3.0</td>\n",
       "      <td>NaN</td>\n",
       "      <td>NaN</td>\n",
       "      <td>NaN</td>\n",
       "    </tr>\n",
       "    <tr>\n",
       "      <th>2</th>\n",
       "      <td>Afghanistan</td>\n",
       "      <td>Aliments pour enfants</td>\n",
       "      <td>vegetale</td>\n",
       "      <td>NaN</td>\n",
       "      <td>NaN</td>\n",
       "      <td>1.0</td>\n",
       "      <td>0.06</td>\n",
       "      <td>0.01</td>\n",
       "      <td>0.03</td>\n",
       "      <td>2.0</td>\n",
       "      <td>NaN</td>\n",
       "      <td>2.0</td>\n",
       "      <td>2.0</td>\n",
       "      <td>NaN</td>\n",
       "      <td>NaN</td>\n",
       "      <td>NaN</td>\n",
       "      <td>NaN</td>\n",
       "      <td>NaN</td>\n",
       "    </tr>\n",
       "    <tr>\n",
       "      <th>3</th>\n",
       "      <td>Afghanistan</td>\n",
       "      <td>Ananas</td>\n",
       "      <td>vegetale</td>\n",
       "      <td>NaN</td>\n",
       "      <td>NaN</td>\n",
       "      <td>0.0</td>\n",
       "      <td>0.00</td>\n",
       "      <td>NaN</td>\n",
       "      <td>NaN</td>\n",
       "      <td>0.0</td>\n",
       "      <td>NaN</td>\n",
       "      <td>0.0</td>\n",
       "      <td>0.0</td>\n",
       "      <td>NaN</td>\n",
       "      <td>NaN</td>\n",
       "      <td>NaN</td>\n",
       "      <td>NaN</td>\n",
       "      <td>NaN</td>\n",
       "    </tr>\n",
       "    <tr>\n",
       "      <th>4</th>\n",
       "      <td>Afghanistan</td>\n",
       "      <td>Bananes</td>\n",
       "      <td>vegetale</td>\n",
       "      <td>NaN</td>\n",
       "      <td>NaN</td>\n",
       "      <td>4.0</td>\n",
       "      <td>2.70</td>\n",
       "      <td>0.02</td>\n",
       "      <td>0.05</td>\n",
       "      <td>82.0</td>\n",
       "      <td>NaN</td>\n",
       "      <td>82.0</td>\n",
       "      <td>82.0</td>\n",
       "      <td>NaN</td>\n",
       "      <td>NaN</td>\n",
       "      <td>NaN</td>\n",
       "      <td>NaN</td>\n",
       "      <td>NaN</td>\n",
       "    </tr>\n",
       "  </tbody>\n",
       "</table>\n",
       "</div>"
      ]
     },
     "execution_count": 12,
     "metadata": {},
     "output_type": "execute_result"
    }
   ],
   "execution_count": 12
  },
  {
   "cell_type": "code",
   "id": "f3832569",
   "metadata": {
    "ExecuteTime": {
     "end_time": "2024-12-08T13:58:55.132312Z",
     "start_time": "2024-12-08T13:58:55.119810Z"
    }
   },
   "source": [
    "#remplacement des NaN dans le dataset par des 0\n",
    "dispo_alimentaire.fillna(0, inplace=True)"
   ],
   "outputs": [],
   "execution_count": 13
  },
  {
   "cell_type": "code",
   "id": "db4432e3",
   "metadata": {
    "ExecuteTime": {
     "end_time": "2024-12-08T13:58:55.252683Z",
     "start_time": "2024-12-08T13:58:55.237424Z"
    }
   },
   "source": [
    "#multiplication de toutes les lignes contenant des milliers de tonnes en Kg\n",
    "dispo_alimentaire = pd.DataFrame(dispo_alimentaire)\n",
    "colonne_a_multiplier = ['Aliments pour animaux', 'Disponibilité intérieure', 'Exportations - Quantité',\n",
    "                        'Importations - Quantité', 'Nourriture', 'Pertes', 'Production',\n",
    "                        'Semences', 'Traitement', 'Variation de stock', 'Autres Utilisations']\n",
    "dispo_alimentaire[colonne_a_multiplier] = dispo_alimentaire[colonne_a_multiplier]* 1000000"
   ],
   "outputs": [],
   "execution_count": 14
  },
  {
   "cell_type": "code",
   "id": "7f1689bf",
   "metadata": {
    "ExecuteTime": {
     "end_time": "2024-12-08T13:58:55.424246Z",
     "start_time": "2024-12-08T13:58:55.389771Z"
    }
   },
   "source": [
    "#Affichage les 5 premières lignes de la table\n",
    "dispo_alimentaire.head(5)"
   ],
   "outputs": [
    {
     "data": {
      "text/plain": [
       "          Zone                Produit   Origine  Aliments pour animaux  \\\n",
       "0  Afghanistan       Abats Comestible   animale                    0.0   \n",
       "1  Afghanistan        Agrumes, Autres  vegetale                    0.0   \n",
       "2  Afghanistan  Aliments pour enfants  vegetale                    0.0   \n",
       "3  Afghanistan                 Ananas  vegetale                    0.0   \n",
       "4  Afghanistan                Bananes  vegetale                    0.0   \n",
       "\n",
       "   Autres Utilisations  Disponibilité alimentaire (Kcal/personne/jour)  \\\n",
       "0                  0.0                                             5.0   \n",
       "1                  0.0                                             1.0   \n",
       "2                  0.0                                             1.0   \n",
       "3                  0.0                                             0.0   \n",
       "4                  0.0                                             4.0   \n",
       "\n",
       "   Disponibilité alimentaire en quantité (kg/personne/an)  \\\n",
       "0                                               1.72        \n",
       "1                                               1.29        \n",
       "2                                               0.06        \n",
       "3                                               0.00        \n",
       "4                                               2.70        \n",
       "\n",
       "   Disponibilité de matière grasse en quantité (g/personne/jour)  \\\n",
       "0                                               0.20               \n",
       "1                                               0.01               \n",
       "2                                               0.01               \n",
       "3                                               0.00               \n",
       "4                                               0.02               \n",
       "\n",
       "   Disponibilité de protéines en quantité (g/personne/jour)  \\\n",
       "0                                               0.77          \n",
       "1                                               0.02          \n",
       "2                                               0.03          \n",
       "3                                               0.00          \n",
       "4                                               0.05          \n",
       "\n",
       "   Disponibilité intérieure  Exportations - Quantité  Importations - Quantité  \\\n",
       "0                53000000.0                      0.0                      0.0   \n",
       "1                41000000.0                2000000.0               40000000.0   \n",
       "2                 2000000.0                      0.0                2000000.0   \n",
       "3                       0.0                      0.0                      0.0   \n",
       "4                82000000.0                      0.0               82000000.0   \n",
       "\n",
       "   Nourriture     Pertes  Production  Semences  Traitement  Variation de stock  \n",
       "0  53000000.0        0.0  53000000.0       0.0         0.0                 0.0  \n",
       "1  39000000.0  2000000.0   3000000.0       0.0         0.0                 0.0  \n",
       "2   2000000.0        0.0         0.0       0.0         0.0                 0.0  \n",
       "3         0.0        0.0         0.0       0.0         0.0                 0.0  \n",
       "4  82000000.0        0.0         0.0       0.0         0.0                 0.0  "
      ],
      "text/html": [
       "<div>\n",
       "<style scoped>\n",
       "    .dataframe tbody tr th:only-of-type {\n",
       "        vertical-align: middle;\n",
       "    }\n",
       "\n",
       "    .dataframe tbody tr th {\n",
       "        vertical-align: top;\n",
       "    }\n",
       "\n",
       "    .dataframe thead th {\n",
       "        text-align: right;\n",
       "    }\n",
       "</style>\n",
       "<table border=\"1\" class=\"dataframe\">\n",
       "  <thead>\n",
       "    <tr style=\"text-align: right;\">\n",
       "      <th></th>\n",
       "      <th>Zone</th>\n",
       "      <th>Produit</th>\n",
       "      <th>Origine</th>\n",
       "      <th>Aliments pour animaux</th>\n",
       "      <th>Autres Utilisations</th>\n",
       "      <th>Disponibilité alimentaire (Kcal/personne/jour)</th>\n",
       "      <th>Disponibilité alimentaire en quantité (kg/personne/an)</th>\n",
       "      <th>Disponibilité de matière grasse en quantité (g/personne/jour)</th>\n",
       "      <th>Disponibilité de protéines en quantité (g/personne/jour)</th>\n",
       "      <th>Disponibilité intérieure</th>\n",
       "      <th>Exportations - Quantité</th>\n",
       "      <th>Importations - Quantité</th>\n",
       "      <th>Nourriture</th>\n",
       "      <th>Pertes</th>\n",
       "      <th>Production</th>\n",
       "      <th>Semences</th>\n",
       "      <th>Traitement</th>\n",
       "      <th>Variation de stock</th>\n",
       "    </tr>\n",
       "  </thead>\n",
       "  <tbody>\n",
       "    <tr>\n",
       "      <th>0</th>\n",
       "      <td>Afghanistan</td>\n",
       "      <td>Abats Comestible</td>\n",
       "      <td>animale</td>\n",
       "      <td>0.0</td>\n",
       "      <td>0.0</td>\n",
       "      <td>5.0</td>\n",
       "      <td>1.72</td>\n",
       "      <td>0.20</td>\n",
       "      <td>0.77</td>\n",
       "      <td>53000000.0</td>\n",
       "      <td>0.0</td>\n",
       "      <td>0.0</td>\n",
       "      <td>53000000.0</td>\n",
       "      <td>0.0</td>\n",
       "      <td>53000000.0</td>\n",
       "      <td>0.0</td>\n",
       "      <td>0.0</td>\n",
       "      <td>0.0</td>\n",
       "    </tr>\n",
       "    <tr>\n",
       "      <th>1</th>\n",
       "      <td>Afghanistan</td>\n",
       "      <td>Agrumes, Autres</td>\n",
       "      <td>vegetale</td>\n",
       "      <td>0.0</td>\n",
       "      <td>0.0</td>\n",
       "      <td>1.0</td>\n",
       "      <td>1.29</td>\n",
       "      <td>0.01</td>\n",
       "      <td>0.02</td>\n",
       "      <td>41000000.0</td>\n",
       "      <td>2000000.0</td>\n",
       "      <td>40000000.0</td>\n",
       "      <td>39000000.0</td>\n",
       "      <td>2000000.0</td>\n",
       "      <td>3000000.0</td>\n",
       "      <td>0.0</td>\n",
       "      <td>0.0</td>\n",
       "      <td>0.0</td>\n",
       "    </tr>\n",
       "    <tr>\n",
       "      <th>2</th>\n",
       "      <td>Afghanistan</td>\n",
       "      <td>Aliments pour enfants</td>\n",
       "      <td>vegetale</td>\n",
       "      <td>0.0</td>\n",
       "      <td>0.0</td>\n",
       "      <td>1.0</td>\n",
       "      <td>0.06</td>\n",
       "      <td>0.01</td>\n",
       "      <td>0.03</td>\n",
       "      <td>2000000.0</td>\n",
       "      <td>0.0</td>\n",
       "      <td>2000000.0</td>\n",
       "      <td>2000000.0</td>\n",
       "      <td>0.0</td>\n",
       "      <td>0.0</td>\n",
       "      <td>0.0</td>\n",
       "      <td>0.0</td>\n",
       "      <td>0.0</td>\n",
       "    </tr>\n",
       "    <tr>\n",
       "      <th>3</th>\n",
       "      <td>Afghanistan</td>\n",
       "      <td>Ananas</td>\n",
       "      <td>vegetale</td>\n",
       "      <td>0.0</td>\n",
       "      <td>0.0</td>\n",
       "      <td>0.0</td>\n",
       "      <td>0.00</td>\n",
       "      <td>0.00</td>\n",
       "      <td>0.00</td>\n",
       "      <td>0.0</td>\n",
       "      <td>0.0</td>\n",
       "      <td>0.0</td>\n",
       "      <td>0.0</td>\n",
       "      <td>0.0</td>\n",
       "      <td>0.0</td>\n",
       "      <td>0.0</td>\n",
       "      <td>0.0</td>\n",
       "      <td>0.0</td>\n",
       "    </tr>\n",
       "    <tr>\n",
       "      <th>4</th>\n",
       "      <td>Afghanistan</td>\n",
       "      <td>Bananes</td>\n",
       "      <td>vegetale</td>\n",
       "      <td>0.0</td>\n",
       "      <td>0.0</td>\n",
       "      <td>4.0</td>\n",
       "      <td>2.70</td>\n",
       "      <td>0.02</td>\n",
       "      <td>0.05</td>\n",
       "      <td>82000000.0</td>\n",
       "      <td>0.0</td>\n",
       "      <td>82000000.0</td>\n",
       "      <td>82000000.0</td>\n",
       "      <td>0.0</td>\n",
       "      <td>0.0</td>\n",
       "      <td>0.0</td>\n",
       "      <td>0.0</td>\n",
       "      <td>0.0</td>\n",
       "    </tr>\n",
       "  </tbody>\n",
       "</table>\n",
       "</div>"
      ]
     },
     "execution_count": 15,
     "metadata": {},
     "output_type": "execute_result"
    }
   ],
   "execution_count": 15
  },
  {
   "cell_type": "markdown",
   "id": "a09233e4",
   "metadata": {},
   "source": [
    "<div style=\"border: 1px solid RGB(0,150,250);\" >\n",
    "<h3 style=\"margin: auto; padding: 20px; color: RGB(0,150,250); \">2.3 - Analyse exploratoire du fichier aide alimentaire</h3>\n",
    "</div>"
   ]
  },
  {
   "cell_type": "code",
   "id": "702f6322",
   "metadata": {
    "ExecuteTime": {
     "end_time": "2024-12-08T13:58:55.526918Z",
     "start_time": "2024-12-08T13:58:55.517879Z"
    }
   },
   "source": [
    "#Afficher les dimensions du dataset\n",
    "print(\"Le tableau comporte {} observation(s) ou article(s)\".format(aide_alimentaire.shape[0]))\n",
    "print(\"Le tableau comporte {} observation(s) ou article(s)\".format(aide_alimentaire.shape[1]))\n"
   ],
   "outputs": [
    {
     "name": "stdout",
     "output_type": "stream",
     "text": [
      "Le tableau comporte 1475 observation(s) ou article(s)\n",
      "Le tableau comporte 4 observation(s) ou article(s)\n"
     ]
    }
   ],
   "execution_count": 16
  },
  {
   "metadata": {},
   "cell_type": "markdown",
   "source": "",
   "id": "2d2432026e73db40"
  },
  {
   "cell_type": "code",
   "id": "8fead3f9",
   "metadata": {
    "ExecuteTime": {
     "end_time": "2024-12-08T13:58:55.623374Z",
     "start_time": "2024-12-08T13:58:55.606754Z"
    }
   },
   "source": [
    "#Consulter le nombre de colonnes\n",
    "aide_alimentaire.info()"
   ],
   "outputs": [
    {
     "name": "stdout",
     "output_type": "stream",
     "text": [
      "<class 'pandas.core.frame.DataFrame'>\n",
      "RangeIndex: 1475 entries, 0 to 1474\n",
      "Data columns (total 4 columns):\n",
      " #   Column             Non-Null Count  Dtype \n",
      "---  ------             --------------  ----- \n",
      " 0   Pays bénéficiaire  1475 non-null   object\n",
      " 1   Année              1475 non-null   int64 \n",
      " 2   Produit            1475 non-null   object\n",
      " 3   Valeur             1475 non-null   int64 \n",
      "dtypes: int64(2), object(2)\n",
      "memory usage: 46.2+ KB\n"
     ]
    }
   ],
   "execution_count": 17
  },
  {
   "cell_type": "code",
   "id": "443ec245",
   "metadata": {
    "ExecuteTime": {
     "end_time": "2024-12-08T13:58:55.738246Z",
     "start_time": "2024-12-08T13:58:55.729201Z"
    }
   },
   "source": [
    "#Affichage les 5 premières lignes de la table\n",
    "print(aide_alimentaire.head(5))"
   ],
   "outputs": [
    {
     "name": "stdout",
     "output_type": "stream",
     "text": [
      "  Pays bénéficiaire  Année              Produit  Valeur\n",
      "0       Afghanistan   2013  Autres non-céréales     682\n",
      "1       Afghanistan   2014  Autres non-céréales     335\n",
      "2       Afghanistan   2013         Blé et Farin   39224\n",
      "3       Afghanistan   2014         Blé et Farin   15160\n",
      "4       Afghanistan   2013             Céréales   40504\n"
     ]
    }
   ],
   "execution_count": 18
  },
  {
   "cell_type": "code",
   "id": "af47212b",
   "metadata": {
    "ExecuteTime": {
     "end_time": "2024-12-08T13:58:55.863105Z",
     "start_time": "2024-12-08T13:58:55.853325Z"
    }
   },
   "source": [
    "#changement du nom de la colonne Pays bénéficiaire par Zone\n",
    "#aide_alimentaire.rename(columns={'Pays bénéficiaire': 'Zone'}, inplace=True)  \n",
    "aide_alimentaire.rename(columns={\"Pays bénéficiaire\": \"Zone\"}, inplace=True)\n",
    "aide_alimentaire.rename(columns={\"Valeur\": \"Aide Alimentaire\"}, inplace=True)\n"
   ],
   "outputs": [],
   "execution_count": 19
  },
  {
   "metadata": {
    "ExecuteTime": {
     "end_time": "2024-12-08T13:58:55.952256Z",
     "start_time": "2024-12-08T13:58:55.938687Z"
    }
   },
   "cell_type": "code",
   "source": "aide_alimentaire.head(5)",
   "id": "e102835b9760fce",
   "outputs": [
    {
     "data": {
      "text/plain": [
       "          Zone  Année              Produit  Aide Alimentaire\n",
       "0  Afghanistan   2013  Autres non-céréales               682\n",
       "1  Afghanistan   2014  Autres non-céréales               335\n",
       "2  Afghanistan   2013         Blé et Farin             39224\n",
       "3  Afghanistan   2014         Blé et Farin             15160\n",
       "4  Afghanistan   2013             Céréales             40504"
      ],
      "text/html": [
       "<div>\n",
       "<style scoped>\n",
       "    .dataframe tbody tr th:only-of-type {\n",
       "        vertical-align: middle;\n",
       "    }\n",
       "\n",
       "    .dataframe tbody tr th {\n",
       "        vertical-align: top;\n",
       "    }\n",
       "\n",
       "    .dataframe thead th {\n",
       "        text-align: right;\n",
       "    }\n",
       "</style>\n",
       "<table border=\"1\" class=\"dataframe\">\n",
       "  <thead>\n",
       "    <tr style=\"text-align: right;\">\n",
       "      <th></th>\n",
       "      <th>Zone</th>\n",
       "      <th>Année</th>\n",
       "      <th>Produit</th>\n",
       "      <th>Aide Alimentaire</th>\n",
       "    </tr>\n",
       "  </thead>\n",
       "  <tbody>\n",
       "    <tr>\n",
       "      <th>0</th>\n",
       "      <td>Afghanistan</td>\n",
       "      <td>2013</td>\n",
       "      <td>Autres non-céréales</td>\n",
       "      <td>682</td>\n",
       "    </tr>\n",
       "    <tr>\n",
       "      <th>1</th>\n",
       "      <td>Afghanistan</td>\n",
       "      <td>2014</td>\n",
       "      <td>Autres non-céréales</td>\n",
       "      <td>335</td>\n",
       "    </tr>\n",
       "    <tr>\n",
       "      <th>2</th>\n",
       "      <td>Afghanistan</td>\n",
       "      <td>2013</td>\n",
       "      <td>Blé et Farin</td>\n",
       "      <td>39224</td>\n",
       "    </tr>\n",
       "    <tr>\n",
       "      <th>3</th>\n",
       "      <td>Afghanistan</td>\n",
       "      <td>2014</td>\n",
       "      <td>Blé et Farin</td>\n",
       "      <td>15160</td>\n",
       "    </tr>\n",
       "    <tr>\n",
       "      <th>4</th>\n",
       "      <td>Afghanistan</td>\n",
       "      <td>2013</td>\n",
       "      <td>Céréales</td>\n",
       "      <td>40504</td>\n",
       "    </tr>\n",
       "  </tbody>\n",
       "</table>\n",
       "</div>"
      ]
     },
     "execution_count": 20,
     "metadata": {},
     "output_type": "execute_result"
    }
   ],
   "execution_count": 20
  },
  {
   "cell_type": "code",
   "id": "c32cd1d8",
   "metadata": {
    "ExecuteTime": {
     "end_time": "2024-12-08T13:58:56.043073Z",
     "start_time": "2024-12-08T13:58:56.036538Z"
    }
   },
   "source": [
    "#Multiplication de la colonne Aide_alimentaire qui contient des tonnes par 1000 pour avoir des kg\n",
    "aide_alimentaire['Aide Alimentaire'] = aide_alimentaire['Aide Alimentaire'] * 1000"
   ],
   "outputs": [],
   "execution_count": 21
  },
  {
   "cell_type": "code",
   "id": "d951d8df",
   "metadata": {
    "ExecuteTime": {
     "end_time": "2024-12-08T13:58:56.114039Z",
     "start_time": "2024-12-08T13:58:56.103222Z"
    }
   },
   "source": [
    "#Affichage les 5 premières lignes de la table\n",
    "print(aide_alimentaire.head(5))"
   ],
   "outputs": [
    {
     "name": "stdout",
     "output_type": "stream",
     "text": [
      "          Zone  Année              Produit  Aide Alimentaire\n",
      "0  Afghanistan   2013  Autres non-céréales            682000\n",
      "1  Afghanistan   2014  Autres non-céréales            335000\n",
      "2  Afghanistan   2013         Blé et Farin          39224000\n",
      "3  Afghanistan   2014         Blé et Farin          15160000\n",
      "4  Afghanistan   2013             Céréales          40504000\n"
     ]
    }
   ],
   "execution_count": 22
  },
  {
   "cell_type": "markdown",
   "id": "eeae9043",
   "metadata": {},
   "source": [
    "<div style=\"border: 1px solid RGB(0,150,250);\" >\n",
    "<h3 style=\"margin: auto; padding: 20px; color: RGB(0,150,250); \">2.3 - Analyse exploratoire du fichier sous nutrition</h3>\n",
    "</div>"
   ]
  },
  {
   "cell_type": "code",
   "id": "882add3d",
   "metadata": {
    "ExecuteTime": {
     "end_time": "2024-12-08T13:58:56.184547Z",
     "start_time": "2024-12-08T13:58:56.178941Z"
    }
   },
   "source": [
    "#Afficher les dimensions du dataset\n",
    "print(\"Le tableau comporte {} observation(s) ou article(s)\".format(nutrition.shape[0]))\n"
   ],
   "outputs": [
    {
     "name": "stdout",
     "output_type": "stream",
     "text": [
      "Le tableau comporte 1218 observation(s) ou article(s)\n"
     ]
    }
   ],
   "execution_count": 23
  },
  {
   "cell_type": "code",
   "id": "70c1a7a9",
   "metadata": {
    "ExecuteTime": {
     "end_time": "2024-12-08T13:58:56.298768Z",
     "start_time": "2024-12-08T13:58:56.288372Z"
    }
   },
   "source": [
    "#Consulter le nombre de colonnes\n",
    "print(\"Le tableau comporte {} colonne\".format(nutrition.shape[1]))"
   ],
   "outputs": [
    {
     "name": "stdout",
     "output_type": "stream",
     "text": [
      "Le tableau comporte 3 colonne\n"
     ]
    }
   ],
   "execution_count": 24
  },
  {
   "cell_type": "code",
   "id": "5c6469e5",
   "metadata": {
    "ExecuteTime": {
     "end_time": "2024-12-08T13:58:56.368029Z",
     "start_time": "2024-12-08T13:58:56.358329Z"
    }
   },
   "source": [
    "#Afficher les 5 premières lignes de la table\n",
    "print(nutrition.head(5))"
   ],
   "outputs": [
    {
     "name": "stdout",
     "output_type": "stream",
     "text": [
      "          Zone      Année Valeur\n",
      "0  Afghanistan  2012-2014    8.6\n",
      "1  Afghanistan  2013-2015    8.8\n",
      "2  Afghanistan  2014-2016    8.9\n",
      "3  Afghanistan  2015-2017    9.7\n",
      "4  Afghanistan  2016-2018   10.5\n"
     ]
    }
   ],
   "execution_count": 25
  },
  {
   "cell_type": "code",
   "id": "11b6a6c8",
   "metadata": {
    "ExecuteTime": {
     "end_time": "2024-12-08T13:58:56.459707Z",
     "start_time": "2024-12-08T13:58:56.450871Z"
    }
   },
   "source": [
    "#Conversion de la colonne sous nutrition en numérique\n",
    "#nutrition['Valeur'] = pd.to_numeric(nutrition['Valeur'])\n",
    "#nutrition.info()"
   ],
   "outputs": [],
   "execution_count": 26
  },
  {
   "cell_type": "code",
   "id": "d31d2724",
   "metadata": {
    "ExecuteTime": {
     "end_time": "2024-12-08T13:58:56.533948Z",
     "start_time": "2024-12-08T13:58:56.524847Z"
    }
   },
   "source": [
    "#Conversion de la colonne (avec l'argument errors=coerce qui permet de convertir automatiquement les lignes qui ne sont pas des nombres en NaN)\n",
    "nutrition['Valeur'] = pd.to_numeric(nutrition['Valeur'], errors='coerce')\n",
    "\n",
    "#Puis remplacement des NaN en 0\n",
    "nutrition.fillna(0, inplace=True)"
   ],
   "outputs": [],
   "execution_count": 27
  },
  {
   "cell_type": "code",
   "id": "34c98232",
   "metadata": {
    "ExecuteTime": {
     "end_time": "2024-12-08T13:58:56.606769Z",
     "start_time": "2024-12-08T13:58:56.600769Z"
    }
   },
   "source": [
    "#changement du nom de la colonne Valeur par sous_nutrition\n",
    "nutrition.rename(columns={'Valeur': 'sous_nutrition'}, inplace=True)"
   ],
   "outputs": [],
   "execution_count": 28
  },
  {
   "cell_type": "code",
   "id": "002110fa",
   "metadata": {
    "ExecuteTime": {
     "end_time": "2024-12-08T13:58:56.622027Z",
     "start_time": "2024-12-08T13:58:56.616494Z"
    }
   },
   "source": [
    "#Multiplication de la colonne sous_nutrition par 1000000\n",
    "nutrition['sous_nutrition'] *=  1000000"
   ],
   "outputs": [],
   "execution_count": 29
  },
  {
   "cell_type": "code",
   "id": "58259b55",
   "metadata": {
    "ExecuteTime": {
     "end_time": "2024-12-08T13:58:56.710780Z",
     "start_time": "2024-12-08T13:58:56.691469Z"
    }
   },
   "source": [
    "#Afficher les 5 premières lignes de la table\n",
    "print(nutrition.head(5))\n",
    "nutrition.head(5)"
   ],
   "outputs": [
    {
     "name": "stdout",
     "output_type": "stream",
     "text": [
      "          Zone      Année  sous_nutrition\n",
      "0  Afghanistan  2012-2014       8600000.0\n",
      "1  Afghanistan  2013-2015       8800000.0\n",
      "2  Afghanistan  2014-2016       8900000.0\n",
      "3  Afghanistan  2015-2017       9700000.0\n",
      "4  Afghanistan  2016-2018      10500000.0\n"
     ]
    },
    {
     "data": {
      "text/plain": [
       "          Zone      Année  sous_nutrition\n",
       "0  Afghanistan  2012-2014       8600000.0\n",
       "1  Afghanistan  2013-2015       8800000.0\n",
       "2  Afghanistan  2014-2016       8900000.0\n",
       "3  Afghanistan  2015-2017       9700000.0\n",
       "4  Afghanistan  2016-2018      10500000.0"
      ],
      "text/html": [
       "<div>\n",
       "<style scoped>\n",
       "    .dataframe tbody tr th:only-of-type {\n",
       "        vertical-align: middle;\n",
       "    }\n",
       "\n",
       "    .dataframe tbody tr th {\n",
       "        vertical-align: top;\n",
       "    }\n",
       "\n",
       "    .dataframe thead th {\n",
       "        text-align: right;\n",
       "    }\n",
       "</style>\n",
       "<table border=\"1\" class=\"dataframe\">\n",
       "  <thead>\n",
       "    <tr style=\"text-align: right;\">\n",
       "      <th></th>\n",
       "      <th>Zone</th>\n",
       "      <th>Année</th>\n",
       "      <th>sous_nutrition</th>\n",
       "    </tr>\n",
       "  </thead>\n",
       "  <tbody>\n",
       "    <tr>\n",
       "      <th>0</th>\n",
       "      <td>Afghanistan</td>\n",
       "      <td>2012-2014</td>\n",
       "      <td>8600000.0</td>\n",
       "    </tr>\n",
       "    <tr>\n",
       "      <th>1</th>\n",
       "      <td>Afghanistan</td>\n",
       "      <td>2013-2015</td>\n",
       "      <td>8800000.0</td>\n",
       "    </tr>\n",
       "    <tr>\n",
       "      <th>2</th>\n",
       "      <td>Afghanistan</td>\n",
       "      <td>2014-2016</td>\n",
       "      <td>8900000.0</td>\n",
       "    </tr>\n",
       "    <tr>\n",
       "      <th>3</th>\n",
       "      <td>Afghanistan</td>\n",
       "      <td>2015-2017</td>\n",
       "      <td>9700000.0</td>\n",
       "    </tr>\n",
       "    <tr>\n",
       "      <th>4</th>\n",
       "      <td>Afghanistan</td>\n",
       "      <td>2016-2018</td>\n",
       "      <td>10500000.0</td>\n",
       "    </tr>\n",
       "  </tbody>\n",
       "</table>\n",
       "</div>"
      ]
     },
     "execution_count": 30,
     "metadata": {},
     "output_type": "execute_result"
    }
   ],
   "execution_count": 30
  },
  {
   "cell_type": "markdown",
   "id": "df6dcabd",
   "metadata": {},
   "source": [
    "<div style=\"border: 1px solid RGB(0,150,250);\" >\n",
    "<h3 style=\"margin: auto; padding: 20px; color: RGB(0,150,250); \">3.1 - Proportion de personnes en sous nutrition</h3>\n",
    "</div>"
   ]
  },
  {
   "cell_type": "code",
   "id": "a63e1567",
   "metadata": {
    "ExecuteTime": {
     "end_time": "2024-12-08T13:58:56.821204Z",
     "start_time": "2024-12-08T13:58:56.801588Z"
    }
   },
   "source": [
    "# Il faut tout d'abord faire une jointure entre la table population et la table sous nutrition, en ciblant l'année 2017\n",
    "# pop_nut = pd.merge(population[population['Année'] == 2017], nutrition[nutrition['Année'] == 2017], on='Zone', how='left')\n",
    "pop_nut = pd.merge(population.loc[population['Année'] == 2017,[\"Zone\", \"Population\"]],\n",
    "                               nutrition.loc[nutrition['Année'] == '2016-2018',[\"Zone\", \"sous_nutrition\"]],\n",
    "                               on='Zone')"
   ],
   "outputs": [],
   "execution_count": 31
  },
  {
   "cell_type": "code",
   "id": "731eea39",
   "metadata": {
    "ExecuteTime": {
     "end_time": "2024-12-08T13:58:56.954091Z",
     "start_time": "2024-12-08T13:58:56.942858Z"
    }
   },
   "source": [
    "#Affichage du dataset\n",
    "print (pop_nut)"
   ],
   "outputs": [
    {
     "name": "stdout",
     "output_type": "stream",
     "text": [
      "                                       Zone  Population  sous_nutrition\n",
      "0                               Afghanistan  36296113.0      10500000.0\n",
      "1                            Afrique du Sud  57009756.0       3100000.0\n",
      "2                                   Albanie   2884169.0        100000.0\n",
      "3                                   Algérie  41389189.0       1300000.0\n",
      "4                                 Allemagne  82658409.0             0.0\n",
      "..                                      ...         ...             ...\n",
      "198  Venezuela (République bolivarienne du)  29402484.0       8000000.0\n",
      "199                                Viet Nam  94600648.0       6500000.0\n",
      "200                                   Yémen  27834819.0             0.0\n",
      "201                                  Zambie  16853599.0             0.0\n",
      "202                                Zimbabwe  14236595.0             0.0\n",
      "\n",
      "[203 rows x 3 columns]\n"
     ]
    }
   ],
   "execution_count": 32
  },
  {
   "cell_type": "code",
   "id": "28e2741f",
   "metadata": {
    "ExecuteTime": {
     "end_time": "2024-12-08T13:58:57.023805Z",
     "start_time": "2024-12-08T13:58:57.015032Z"
    }
   },
   "source": [
    "#Calcul et affichage du nombre de personnes en état de sous nutrition\n",
    "nombre_sous_nutrition = pop_nut['sous_nutrition'].sum() * 100 #utiliser format   \n",
    "pourcentage_sous_nutrition = nombre_sous_nutrition / pop_nut['Population'].sum()\n",
    "print(pourcentage_sous_nutrition.round(2)) #faire phrase"
   ],
   "outputs": [
    {
     "name": "stdout",
     "output_type": "stream",
     "text": [
      "7.1\n"
     ]
    }
   ],
   "execution_count": 33
  },
  {
   "cell_type": "markdown",
   "id": "b4134a24",
   "metadata": {},
   "source": [
    "<div style=\"border: 1px solid RGB(0,150,250);\" >\n",
    "<h3 style=\"margin: auto; padding: 20px; color: RGB(0,150,250); \">3.2 - Nombre théorique de personne qui pourrait être nourries</h3>\n",
    "</div>"
   ]
  },
  {
   "cell_type": "code",
   "id": "2b63df85",
   "metadata": {
    "ExecuteTime": {
     "end_time": "2024-12-08T13:58:57.085428Z",
     "start_time": "2024-12-08T13:58:57.077561Z"
    }
   },
   "source": "#Combien mange en moyenne un être humain ? Source => 2250 Kcal",
   "outputs": [],
   "execution_count": 34
  },
  {
   "metadata": {
    "ExecuteTime": {
     "end_time": "2024-12-08T13:58:57.188990Z",
     "start_time": "2024-12-08T13:58:57.166569Z"
    }
   },
   "cell_type": "code",
   "source": [
    "#On commence par faire une jointure entre le data frame population et Dispo_alimentaire afin d'ajouter dans ce dernier la population\n",
    "dispo_alimentaire = dispo_alimentaire.merge(population.loc[population['Année'] == 2017,[\"Zone\", \"Population\"]],\n",
    "                                            on='Zone')\n"
   ],
   "id": "5bfc23f7800d4583",
   "outputs": [],
   "execution_count": 35
  },
  {
   "cell_type": "code",
   "id": "4538126c",
   "metadata": {
    "ExecuteTime": {
     "end_time": "2024-12-08T13:58:57.249240Z",
     "start_time": "2024-12-08T13:58:57.206468Z"
    }
   },
   "source": [
    "#Affichage du nouveau dataframe\n",
    "dispo_alimentaire.head(5)\n"
   ],
   "outputs": [
    {
     "data": {
      "text/plain": [
       "          Zone                Produit   Origine  Aliments pour animaux  \\\n",
       "0  Afghanistan       Abats Comestible   animale                    0.0   \n",
       "1  Afghanistan        Agrumes, Autres  vegetale                    0.0   \n",
       "2  Afghanistan  Aliments pour enfants  vegetale                    0.0   \n",
       "3  Afghanistan                 Ananas  vegetale                    0.0   \n",
       "4  Afghanistan                Bananes  vegetale                    0.0   \n",
       "\n",
       "   Autres Utilisations  Disponibilité alimentaire (Kcal/personne/jour)  \\\n",
       "0                  0.0                                             5.0   \n",
       "1                  0.0                                             1.0   \n",
       "2                  0.0                                             1.0   \n",
       "3                  0.0                                             0.0   \n",
       "4                  0.0                                             4.0   \n",
       "\n",
       "   Disponibilité alimentaire en quantité (kg/personne/an)  \\\n",
       "0                                               1.72        \n",
       "1                                               1.29        \n",
       "2                                               0.06        \n",
       "3                                               0.00        \n",
       "4                                               2.70        \n",
       "\n",
       "   Disponibilité de matière grasse en quantité (g/personne/jour)  \\\n",
       "0                                               0.20               \n",
       "1                                               0.01               \n",
       "2                                               0.01               \n",
       "3                                               0.00               \n",
       "4                                               0.02               \n",
       "\n",
       "   Disponibilité de protéines en quantité (g/personne/jour)  \\\n",
       "0                                               0.77          \n",
       "1                                               0.02          \n",
       "2                                               0.03          \n",
       "3                                               0.00          \n",
       "4                                               0.05          \n",
       "\n",
       "   Disponibilité intérieure  Exportations - Quantité  Importations - Quantité  \\\n",
       "0                53000000.0                      0.0                      0.0   \n",
       "1                41000000.0                2000000.0               40000000.0   \n",
       "2                 2000000.0                      0.0                2000000.0   \n",
       "3                       0.0                      0.0                      0.0   \n",
       "4                82000000.0                      0.0               82000000.0   \n",
       "\n",
       "   Nourriture     Pertes  Production  Semences  Traitement  \\\n",
       "0  53000000.0        0.0  53000000.0       0.0         0.0   \n",
       "1  39000000.0  2000000.0   3000000.0       0.0         0.0   \n",
       "2   2000000.0        0.0         0.0       0.0         0.0   \n",
       "3         0.0        0.0         0.0       0.0         0.0   \n",
       "4  82000000.0        0.0         0.0       0.0         0.0   \n",
       "\n",
       "   Variation de stock  Population  \n",
       "0                 0.0  36296113.0  \n",
       "1                 0.0  36296113.0  \n",
       "2                 0.0  36296113.0  \n",
       "3                 0.0  36296113.0  \n",
       "4                 0.0  36296113.0  "
      ],
      "text/html": [
       "<div>\n",
       "<style scoped>\n",
       "    .dataframe tbody tr th:only-of-type {\n",
       "        vertical-align: middle;\n",
       "    }\n",
       "\n",
       "    .dataframe tbody tr th {\n",
       "        vertical-align: top;\n",
       "    }\n",
       "\n",
       "    .dataframe thead th {\n",
       "        text-align: right;\n",
       "    }\n",
       "</style>\n",
       "<table border=\"1\" class=\"dataframe\">\n",
       "  <thead>\n",
       "    <tr style=\"text-align: right;\">\n",
       "      <th></th>\n",
       "      <th>Zone</th>\n",
       "      <th>Produit</th>\n",
       "      <th>Origine</th>\n",
       "      <th>Aliments pour animaux</th>\n",
       "      <th>Autres Utilisations</th>\n",
       "      <th>Disponibilité alimentaire (Kcal/personne/jour)</th>\n",
       "      <th>Disponibilité alimentaire en quantité (kg/personne/an)</th>\n",
       "      <th>Disponibilité de matière grasse en quantité (g/personne/jour)</th>\n",
       "      <th>Disponibilité de protéines en quantité (g/personne/jour)</th>\n",
       "      <th>Disponibilité intérieure</th>\n",
       "      <th>Exportations - Quantité</th>\n",
       "      <th>Importations - Quantité</th>\n",
       "      <th>Nourriture</th>\n",
       "      <th>Pertes</th>\n",
       "      <th>Production</th>\n",
       "      <th>Semences</th>\n",
       "      <th>Traitement</th>\n",
       "      <th>Variation de stock</th>\n",
       "      <th>Population</th>\n",
       "    </tr>\n",
       "  </thead>\n",
       "  <tbody>\n",
       "    <tr>\n",
       "      <th>0</th>\n",
       "      <td>Afghanistan</td>\n",
       "      <td>Abats Comestible</td>\n",
       "      <td>animale</td>\n",
       "      <td>0.0</td>\n",
       "      <td>0.0</td>\n",
       "      <td>5.0</td>\n",
       "      <td>1.72</td>\n",
       "      <td>0.20</td>\n",
       "      <td>0.77</td>\n",
       "      <td>53000000.0</td>\n",
       "      <td>0.0</td>\n",
       "      <td>0.0</td>\n",
       "      <td>53000000.0</td>\n",
       "      <td>0.0</td>\n",
       "      <td>53000000.0</td>\n",
       "      <td>0.0</td>\n",
       "      <td>0.0</td>\n",
       "      <td>0.0</td>\n",
       "      <td>36296113.0</td>\n",
       "    </tr>\n",
       "    <tr>\n",
       "      <th>1</th>\n",
       "      <td>Afghanistan</td>\n",
       "      <td>Agrumes, Autres</td>\n",
       "      <td>vegetale</td>\n",
       "      <td>0.0</td>\n",
       "      <td>0.0</td>\n",
       "      <td>1.0</td>\n",
       "      <td>1.29</td>\n",
       "      <td>0.01</td>\n",
       "      <td>0.02</td>\n",
       "      <td>41000000.0</td>\n",
       "      <td>2000000.0</td>\n",
       "      <td>40000000.0</td>\n",
       "      <td>39000000.0</td>\n",
       "      <td>2000000.0</td>\n",
       "      <td>3000000.0</td>\n",
       "      <td>0.0</td>\n",
       "      <td>0.0</td>\n",
       "      <td>0.0</td>\n",
       "      <td>36296113.0</td>\n",
       "    </tr>\n",
       "    <tr>\n",
       "      <th>2</th>\n",
       "      <td>Afghanistan</td>\n",
       "      <td>Aliments pour enfants</td>\n",
       "      <td>vegetale</td>\n",
       "      <td>0.0</td>\n",
       "      <td>0.0</td>\n",
       "      <td>1.0</td>\n",
       "      <td>0.06</td>\n",
       "      <td>0.01</td>\n",
       "      <td>0.03</td>\n",
       "      <td>2000000.0</td>\n",
       "      <td>0.0</td>\n",
       "      <td>2000000.0</td>\n",
       "      <td>2000000.0</td>\n",
       "      <td>0.0</td>\n",
       "      <td>0.0</td>\n",
       "      <td>0.0</td>\n",
       "      <td>0.0</td>\n",
       "      <td>0.0</td>\n",
       "      <td>36296113.0</td>\n",
       "    </tr>\n",
       "    <tr>\n",
       "      <th>3</th>\n",
       "      <td>Afghanistan</td>\n",
       "      <td>Ananas</td>\n",
       "      <td>vegetale</td>\n",
       "      <td>0.0</td>\n",
       "      <td>0.0</td>\n",
       "      <td>0.0</td>\n",
       "      <td>0.00</td>\n",
       "      <td>0.00</td>\n",
       "      <td>0.00</td>\n",
       "      <td>0.0</td>\n",
       "      <td>0.0</td>\n",
       "      <td>0.0</td>\n",
       "      <td>0.0</td>\n",
       "      <td>0.0</td>\n",
       "      <td>0.0</td>\n",
       "      <td>0.0</td>\n",
       "      <td>0.0</td>\n",
       "      <td>0.0</td>\n",
       "      <td>36296113.0</td>\n",
       "    </tr>\n",
       "    <tr>\n",
       "      <th>4</th>\n",
       "      <td>Afghanistan</td>\n",
       "      <td>Bananes</td>\n",
       "      <td>vegetale</td>\n",
       "      <td>0.0</td>\n",
       "      <td>0.0</td>\n",
       "      <td>4.0</td>\n",
       "      <td>2.70</td>\n",
       "      <td>0.02</td>\n",
       "      <td>0.05</td>\n",
       "      <td>82000000.0</td>\n",
       "      <td>0.0</td>\n",
       "      <td>82000000.0</td>\n",
       "      <td>82000000.0</td>\n",
       "      <td>0.0</td>\n",
       "      <td>0.0</td>\n",
       "      <td>0.0</td>\n",
       "      <td>0.0</td>\n",
       "      <td>0.0</td>\n",
       "      <td>36296113.0</td>\n",
       "    </tr>\n",
       "  </tbody>\n",
       "</table>\n",
       "</div>"
      ]
     },
     "execution_count": 36,
     "metadata": {},
     "output_type": "execute_result"
    }
   ],
   "execution_count": 36
  },
  {
   "metadata": {
    "ExecuteTime": {
     "end_time": "2024-12-08T13:58:57.374531Z",
     "start_time": "2024-12-08T13:58:57.360420Z"
    }
   },
   "cell_type": "code",
   "source": [
    "#Création de la colonne dispo_kcal avec calcul des kcal disponibles mondialement\n",
    "#crée nouvelle colonne pour calculer dispo calorie\n",
    "dispo_alimentaire['dispo_kcal'] = dispo_alimentaire['Disponibilité alimentaire (Kcal/personne/jour)'] * dispo_alimentaire['Population'] * 365\n",
    "print(dispo_alimentaire['dispo_kcal'].sum())"
   ],
   "id": "996fec01fc2495d1",
   "outputs": [
    {
     "name": "stdout",
     "output_type": "stream",
     "text": [
      "7635429388975815.0\n"
     ]
    }
   ],
   "execution_count": 37
  },
  {
   "cell_type": "code",
   "id": "a6d4af90",
   "metadata": {
    "ExecuteTime": {
     "end_time": "2024-12-08T13:58:57.462319Z",
     "start_time": "2024-12-08T13:58:57.454607Z"
    }
   },
   "source": [
    "#Calcul du nombre d'humains pouvant être nourris\n",
    "#J'ai pris 2250 car les hommes ont besoin de 2500 et les femmes de 2000 kcal, j'ai fais la moyenne en pensant qu'il y'a 50% de femme et d'homme dans le monde\n",
    "total_kcal = round(dispo_alimentaire['dispo_kcal'].sum() / (2250 * 365))\n",
    "print(total_kcal)\n",
    "#calcul proportion humain dans le monde  trouvé 123%\n",
    "proportion_humain = round(total_kcal / pop_nut['Population'].sum(), 2)\n",
    "proportion_humain = round(proportion_humain * 100)\n",
    "print('La proportion est de ', proportion_humain, '%')"
   ],
   "outputs": [
    {
     "name": "stdout",
     "output_type": "stream",
     "text": [
      "9297326501\n",
      "La proportion est de  123 %\n"
     ]
    }
   ],
   "execution_count": 38
  },
  {
   "cell_type": "markdown",
   "id": "e97c8886",
   "metadata": {},
   "source": [
    "<div style=\"border: 1px solid RGB(0,150,250);\" >\n",
    "<h3 style=\"margin: auto; padding: 20px; color: RGB(0,150,250); \">3.3 - Nombre théorique de personne qui pourrait être nourrie avec les produits végétaux</h3>\n",
    "</div>"
   ]
  },
  {
   "cell_type": "code",
   "id": "c2e3c87c",
   "metadata": {
    "ExecuteTime": {
     "end_time": "2024-12-08T13:58:57.686345Z",
     "start_time": "2024-12-08T13:58:57.587124Z"
    }
   },
   "source": [
    "#Transfert des données avec les végétaux dans un nouveau dataframe\n",
    "vegetaux_df = dispo_alimentaire[dispo_alimentaire['Origine'] == 'vegetale']\n",
    "vegetaux_df.head(20)"
   ],
   "outputs": [
    {
     "data": {
      "text/plain": [
       "           Zone                  Produit   Origine  Aliments pour animaux  \\\n",
       "1   Afghanistan          Agrumes, Autres  vegetale                    0.0   \n",
       "2   Afghanistan    Aliments pour enfants  vegetale                    0.0   \n",
       "3   Afghanistan                   Ananas  vegetale                    0.0   \n",
       "4   Afghanistan                  Bananes  vegetale                    0.0   \n",
       "6   Afghanistan                    Bière  vegetale                    0.0   \n",
       "7   Afghanistan                      Blé  vegetale                    0.0   \n",
       "8   Afghanistan     Boissons Alcooliques  vegetale                    0.0   \n",
       "9   Afghanistan                     Café  vegetale                    0.0   \n",
       "10  Afghanistan       Coco (Incl Coprah)  vegetale                    0.0   \n",
       "12  Afghanistan         Céréales, Autres  vegetale                    0.0   \n",
       "13  Afghanistan                   Dattes  vegetale                    0.0   \n",
       "14  Afghanistan       Edulcorants Autres  vegetale                    0.0   \n",
       "15  Afghanistan            Feve de Cacao  vegetale                    0.0   \n",
       "16  Afghanistan           Fruits, Autres  vegetale                    0.0   \n",
       "17  Afghanistan         Graines de coton  vegetale                    0.0   \n",
       "18  Afghanistan     Graines de tournesol  vegetale                    0.0   \n",
       "20  Afghanistan  Huil Plantes Oleif Autr  vegetale                    0.0   \n",
       "21  Afghanistan   Huile Graines de Coton  vegetale                    0.0   \n",
       "22  Afghanistan         Huile d'Arachide  vegetale                    0.0   \n",
       "23  Afghanistan            Huile d'Olive  vegetale                    0.0   \n",
       "\n",
       "    Autres Utilisations  Disponibilité alimentaire (Kcal/personne/jour)  \\\n",
       "1                   0.0                                             1.0   \n",
       "2                   0.0                                             1.0   \n",
       "3                   0.0                                             0.0   \n",
       "4                   0.0                                             4.0   \n",
       "6                   0.0                                             0.0   \n",
       "7                   0.0                                          1369.0   \n",
       "8                   0.0                                             0.0   \n",
       "9                   0.0                                             0.0   \n",
       "10                  0.0                                             0.0   \n",
       "12                  0.0                                             0.0   \n",
       "13                  0.0                                             0.0   \n",
       "14                  0.0                                             2.0   \n",
       "15                  0.0                                             0.0   \n",
       "16                  0.0                                             9.0   \n",
       "17                  0.0                                             0.0   \n",
       "18                  0.0                                             0.0   \n",
       "20          359000000.0                                             2.0   \n",
       "21            1000000.0                                             3.0   \n",
       "22                  0.0                                             0.0   \n",
       "23                  0.0                                             0.0   \n",
       "\n",
       "    Disponibilité alimentaire en quantité (kg/personne/an)  \\\n",
       "1                                                1.29        \n",
       "2                                                0.06        \n",
       "3                                                0.00        \n",
       "4                                                2.70        \n",
       "6                                                0.09        \n",
       "7                                              160.23        \n",
       "8                                                0.00        \n",
       "9                                                0.00        \n",
       "10                                               0.00        \n",
       "12                                               0.00        \n",
       "13                                               0.02        \n",
       "14                                               0.53        \n",
       "15                                               0.02        \n",
       "16                                               7.29        \n",
       "17                                               0.00        \n",
       "18                                               0.00        \n",
       "20                                               0.08        \n",
       "21                                               0.12        \n",
       "22                                               0.00        \n",
       "23                                               0.02        \n",
       "\n",
       "    Disponibilité de matière grasse en quantité (g/personne/jour)  \\\n",
       "1                                                0.01               \n",
       "2                                                0.01               \n",
       "3                                                0.00               \n",
       "4                                                0.02               \n",
       "6                                                0.00               \n",
       "7                                                4.69               \n",
       "8                                                0.00               \n",
       "9                                                0.00               \n",
       "10                                               0.00               \n",
       "12                                               0.00               \n",
       "13                                               0.00               \n",
       "14                                               0.00               \n",
       "15                                               0.04               \n",
       "16                                               0.06               \n",
       "17                                               0.00               \n",
       "18                                               0.00               \n",
       "20                                               0.21               \n",
       "21                                               0.34               \n",
       "22                                               0.00               \n",
       "23                                               0.05               \n",
       "\n",
       "    Disponibilité de protéines en quantité (g/personne/jour)  \\\n",
       "1                                                0.02          \n",
       "2                                                0.03          \n",
       "3                                                0.00          \n",
       "4                                                0.05          \n",
       "6                                                0.00          \n",
       "7                                               36.91          \n",
       "8                                                0.00          \n",
       "9                                                0.00          \n",
       "10                                               0.00          \n",
       "12                                               0.00          \n",
       "13                                               0.00          \n",
       "14                                               0.00          \n",
       "15                                               0.01          \n",
       "16                                               0.14          \n",
       "17                                               0.00          \n",
       "18                                               0.00          \n",
       "20                                               0.00          \n",
       "21                                               0.00          \n",
       "22                                               0.00          \n",
       "23                                               0.00          \n",
       "\n",
       "    Disponibilité intérieure  Exportations - Quantité  \\\n",
       "1               4.100000e+07                2000000.0   \n",
       "2               2.000000e+06                      0.0   \n",
       "3               0.000000e+00                      0.0   \n",
       "4               8.200000e+07                      0.0   \n",
       "6               3.000000e+06                      0.0   \n",
       "7               5.992000e+09                      0.0   \n",
       "8               0.000000e+00                      0.0   \n",
       "9               0.000000e+00                      0.0   \n",
       "10              0.000000e+00                      0.0   \n",
       "12              0.000000e+00                      0.0   \n",
       "13              1.000000e+06                      0.0   \n",
       "14              1.600000e+07                      0.0   \n",
       "15              1.000000e+06                      0.0   \n",
       "16              2.400000e+08               69000000.0   \n",
       "17              2.700000e+07                      0.0   \n",
       "18              3.000000e+06                      0.0   \n",
       "20              3.610000e+08                      0.0   \n",
       "21              5.000000e+06                      0.0   \n",
       "22              0.000000e+00                      0.0   \n",
       "23              1.000000e+06                      0.0   \n",
       "\n",
       "    Importations - Quantité    Nourriture       Pertes    Production  \\\n",
       "1              4.000000e+07  3.900000e+07    2000000.0  3.000000e+06   \n",
       "2              2.000000e+06  2.000000e+06          0.0  0.000000e+00   \n",
       "3              0.000000e+00  0.000000e+00          0.0  0.000000e+00   \n",
       "4              8.200000e+07  8.200000e+07          0.0  0.000000e+00   \n",
       "6              3.000000e+06  3.000000e+06          0.0  0.000000e+00   \n",
       "7              1.173000e+09  4.895000e+09  775000000.0  5.169000e+09   \n",
       "8              0.000000e+00  0.000000e+00          0.0  0.000000e+00   \n",
       "9              0.000000e+00  0.000000e+00          0.0  0.000000e+00   \n",
       "10             0.000000e+00  0.000000e+00          0.0  0.000000e+00   \n",
       "12             0.000000e+00  0.000000e+00          0.0  0.000000e+00   \n",
       "13             1.000000e+06  1.000000e+06          0.0  0.000000e+00   \n",
       "14             1.600000e+07  1.600000e+07          0.0  0.000000e+00   \n",
       "15             1.000000e+06  1.000000e+06          0.0  0.000000e+00   \n",
       "16             4.000000e+06  2.230000e+08   17000000.0  3.040000e+08   \n",
       "17             0.000000e+00  0.000000e+00          0.0  2.700000e+07   \n",
       "18             0.000000e+00  0.000000e+00          0.0  3.000000e+06   \n",
       "20             3.600000e+08  2.000000e+06          0.0  1.000000e+06   \n",
       "21             0.000000e+00  4.000000e+06          0.0  5.000000e+06   \n",
       "22             0.000000e+00  0.000000e+00          0.0  0.000000e+00   \n",
       "23             0.000000e+00  1.000000e+06          0.0  1.000000e+06   \n",
       "\n",
       "       Semences  Traitement  Variation de stock  Population    dispo_kcal  \n",
       "1           0.0         0.0                 0.0  36296113.0  1.324808e+10  \n",
       "2           0.0         0.0                 0.0  36296113.0  1.324808e+10  \n",
       "3           0.0         0.0                 0.0  36296113.0  0.000000e+00  \n",
       "4           0.0         0.0                 0.0  36296113.0  5.299232e+10  \n",
       "6           0.0         0.0                 0.0  36296113.0  0.000000e+00  \n",
       "7   322000000.0         0.0        -350000000.0  36296113.0  1.813662e+13  \n",
       "8           0.0         0.0                 0.0  36296113.0  0.000000e+00  \n",
       "9           0.0         0.0                 0.0  36296113.0  0.000000e+00  \n",
       "10          0.0         0.0                 0.0  36296113.0  0.000000e+00  \n",
       "12          0.0         0.0                 0.0  36296113.0  0.000000e+00  \n",
       "13          0.0         0.0                 0.0  36296113.0  0.000000e+00  \n",
       "14          0.0         0.0                 0.0  36296113.0  2.649616e+10  \n",
       "15          0.0         0.0                 0.0  36296113.0  0.000000e+00  \n",
       "16          0.0         0.0           1000000.0  36296113.0  1.192327e+11  \n",
       "17    1000000.0  26000000.0                 0.0  36296113.0  0.000000e+00  \n",
       "18          0.0   3000000.0                 0.0  36296113.0  0.000000e+00  \n",
       "20          0.0         0.0                 0.0  36296113.0  2.649616e+10  \n",
       "21          0.0         0.0                 0.0  36296113.0  3.974424e+10  \n",
       "22          0.0         0.0                 0.0  36296113.0  0.000000e+00  \n",
       "23          0.0         0.0                 0.0  36296113.0  0.000000e+00  "
      ],
      "text/html": [
       "<div>\n",
       "<style scoped>\n",
       "    .dataframe tbody tr th:only-of-type {\n",
       "        vertical-align: middle;\n",
       "    }\n",
       "\n",
       "    .dataframe tbody tr th {\n",
       "        vertical-align: top;\n",
       "    }\n",
       "\n",
       "    .dataframe thead th {\n",
       "        text-align: right;\n",
       "    }\n",
       "</style>\n",
       "<table border=\"1\" class=\"dataframe\">\n",
       "  <thead>\n",
       "    <tr style=\"text-align: right;\">\n",
       "      <th></th>\n",
       "      <th>Zone</th>\n",
       "      <th>Produit</th>\n",
       "      <th>Origine</th>\n",
       "      <th>Aliments pour animaux</th>\n",
       "      <th>Autres Utilisations</th>\n",
       "      <th>Disponibilité alimentaire (Kcal/personne/jour)</th>\n",
       "      <th>Disponibilité alimentaire en quantité (kg/personne/an)</th>\n",
       "      <th>Disponibilité de matière grasse en quantité (g/personne/jour)</th>\n",
       "      <th>Disponibilité de protéines en quantité (g/personne/jour)</th>\n",
       "      <th>Disponibilité intérieure</th>\n",
       "      <th>Exportations - Quantité</th>\n",
       "      <th>Importations - Quantité</th>\n",
       "      <th>Nourriture</th>\n",
       "      <th>Pertes</th>\n",
       "      <th>Production</th>\n",
       "      <th>Semences</th>\n",
       "      <th>Traitement</th>\n",
       "      <th>Variation de stock</th>\n",
       "      <th>Population</th>\n",
       "      <th>dispo_kcal</th>\n",
       "    </tr>\n",
       "  </thead>\n",
       "  <tbody>\n",
       "    <tr>\n",
       "      <th>1</th>\n",
       "      <td>Afghanistan</td>\n",
       "      <td>Agrumes, Autres</td>\n",
       "      <td>vegetale</td>\n",
       "      <td>0.0</td>\n",
       "      <td>0.0</td>\n",
       "      <td>1.0</td>\n",
       "      <td>1.29</td>\n",
       "      <td>0.01</td>\n",
       "      <td>0.02</td>\n",
       "      <td>4.100000e+07</td>\n",
       "      <td>2000000.0</td>\n",
       "      <td>4.000000e+07</td>\n",
       "      <td>3.900000e+07</td>\n",
       "      <td>2000000.0</td>\n",
       "      <td>3.000000e+06</td>\n",
       "      <td>0.0</td>\n",
       "      <td>0.0</td>\n",
       "      <td>0.0</td>\n",
       "      <td>36296113.0</td>\n",
       "      <td>1.324808e+10</td>\n",
       "    </tr>\n",
       "    <tr>\n",
       "      <th>2</th>\n",
       "      <td>Afghanistan</td>\n",
       "      <td>Aliments pour enfants</td>\n",
       "      <td>vegetale</td>\n",
       "      <td>0.0</td>\n",
       "      <td>0.0</td>\n",
       "      <td>1.0</td>\n",
       "      <td>0.06</td>\n",
       "      <td>0.01</td>\n",
       "      <td>0.03</td>\n",
       "      <td>2.000000e+06</td>\n",
       "      <td>0.0</td>\n",
       "      <td>2.000000e+06</td>\n",
       "      <td>2.000000e+06</td>\n",
       "      <td>0.0</td>\n",
       "      <td>0.000000e+00</td>\n",
       "      <td>0.0</td>\n",
       "      <td>0.0</td>\n",
       "      <td>0.0</td>\n",
       "      <td>36296113.0</td>\n",
       "      <td>1.324808e+10</td>\n",
       "    </tr>\n",
       "    <tr>\n",
       "      <th>3</th>\n",
       "      <td>Afghanistan</td>\n",
       "      <td>Ananas</td>\n",
       "      <td>vegetale</td>\n",
       "      <td>0.0</td>\n",
       "      <td>0.0</td>\n",
       "      <td>0.0</td>\n",
       "      <td>0.00</td>\n",
       "      <td>0.00</td>\n",
       "      <td>0.00</td>\n",
       "      <td>0.000000e+00</td>\n",
       "      <td>0.0</td>\n",
       "      <td>0.000000e+00</td>\n",
       "      <td>0.000000e+00</td>\n",
       "      <td>0.0</td>\n",
       "      <td>0.000000e+00</td>\n",
       "      <td>0.0</td>\n",
       "      <td>0.0</td>\n",
       "      <td>0.0</td>\n",
       "      <td>36296113.0</td>\n",
       "      <td>0.000000e+00</td>\n",
       "    </tr>\n",
       "    <tr>\n",
       "      <th>4</th>\n",
       "      <td>Afghanistan</td>\n",
       "      <td>Bananes</td>\n",
       "      <td>vegetale</td>\n",
       "      <td>0.0</td>\n",
       "      <td>0.0</td>\n",
       "      <td>4.0</td>\n",
       "      <td>2.70</td>\n",
       "      <td>0.02</td>\n",
       "      <td>0.05</td>\n",
       "      <td>8.200000e+07</td>\n",
       "      <td>0.0</td>\n",
       "      <td>8.200000e+07</td>\n",
       "      <td>8.200000e+07</td>\n",
       "      <td>0.0</td>\n",
       "      <td>0.000000e+00</td>\n",
       "      <td>0.0</td>\n",
       "      <td>0.0</td>\n",
       "      <td>0.0</td>\n",
       "      <td>36296113.0</td>\n",
       "      <td>5.299232e+10</td>\n",
       "    </tr>\n",
       "    <tr>\n",
       "      <th>6</th>\n",
       "      <td>Afghanistan</td>\n",
       "      <td>Bière</td>\n",
       "      <td>vegetale</td>\n",
       "      <td>0.0</td>\n",
       "      <td>0.0</td>\n",
       "      <td>0.0</td>\n",
       "      <td>0.09</td>\n",
       "      <td>0.00</td>\n",
       "      <td>0.00</td>\n",
       "      <td>3.000000e+06</td>\n",
       "      <td>0.0</td>\n",
       "      <td>3.000000e+06</td>\n",
       "      <td>3.000000e+06</td>\n",
       "      <td>0.0</td>\n",
       "      <td>0.000000e+00</td>\n",
       "      <td>0.0</td>\n",
       "      <td>0.0</td>\n",
       "      <td>0.0</td>\n",
       "      <td>36296113.0</td>\n",
       "      <td>0.000000e+00</td>\n",
       "    </tr>\n",
       "    <tr>\n",
       "      <th>7</th>\n",
       "      <td>Afghanistan</td>\n",
       "      <td>Blé</td>\n",
       "      <td>vegetale</td>\n",
       "      <td>0.0</td>\n",
       "      <td>0.0</td>\n",
       "      <td>1369.0</td>\n",
       "      <td>160.23</td>\n",
       "      <td>4.69</td>\n",
       "      <td>36.91</td>\n",
       "      <td>5.992000e+09</td>\n",
       "      <td>0.0</td>\n",
       "      <td>1.173000e+09</td>\n",
       "      <td>4.895000e+09</td>\n",
       "      <td>775000000.0</td>\n",
       "      <td>5.169000e+09</td>\n",
       "      <td>322000000.0</td>\n",
       "      <td>0.0</td>\n",
       "      <td>-350000000.0</td>\n",
       "      <td>36296113.0</td>\n",
       "      <td>1.813662e+13</td>\n",
       "    </tr>\n",
       "    <tr>\n",
       "      <th>8</th>\n",
       "      <td>Afghanistan</td>\n",
       "      <td>Boissons Alcooliques</td>\n",
       "      <td>vegetale</td>\n",
       "      <td>0.0</td>\n",
       "      <td>0.0</td>\n",
       "      <td>0.0</td>\n",
       "      <td>0.00</td>\n",
       "      <td>0.00</td>\n",
       "      <td>0.00</td>\n",
       "      <td>0.000000e+00</td>\n",
       "      <td>0.0</td>\n",
       "      <td>0.000000e+00</td>\n",
       "      <td>0.000000e+00</td>\n",
       "      <td>0.0</td>\n",
       "      <td>0.000000e+00</td>\n",
       "      <td>0.0</td>\n",
       "      <td>0.0</td>\n",
       "      <td>0.0</td>\n",
       "      <td>36296113.0</td>\n",
       "      <td>0.000000e+00</td>\n",
       "    </tr>\n",
       "    <tr>\n",
       "      <th>9</th>\n",
       "      <td>Afghanistan</td>\n",
       "      <td>Café</td>\n",
       "      <td>vegetale</td>\n",
       "      <td>0.0</td>\n",
       "      <td>0.0</td>\n",
       "      <td>0.0</td>\n",
       "      <td>0.00</td>\n",
       "      <td>0.00</td>\n",
       "      <td>0.00</td>\n",
       "      <td>0.000000e+00</td>\n",
       "      <td>0.0</td>\n",
       "      <td>0.000000e+00</td>\n",
       "      <td>0.000000e+00</td>\n",
       "      <td>0.0</td>\n",
       "      <td>0.000000e+00</td>\n",
       "      <td>0.0</td>\n",
       "      <td>0.0</td>\n",
       "      <td>0.0</td>\n",
       "      <td>36296113.0</td>\n",
       "      <td>0.000000e+00</td>\n",
       "    </tr>\n",
       "    <tr>\n",
       "      <th>10</th>\n",
       "      <td>Afghanistan</td>\n",
       "      <td>Coco (Incl Coprah)</td>\n",
       "      <td>vegetale</td>\n",
       "      <td>0.0</td>\n",
       "      <td>0.0</td>\n",
       "      <td>0.0</td>\n",
       "      <td>0.00</td>\n",
       "      <td>0.00</td>\n",
       "      <td>0.00</td>\n",
       "      <td>0.000000e+00</td>\n",
       "      <td>0.0</td>\n",
       "      <td>0.000000e+00</td>\n",
       "      <td>0.000000e+00</td>\n",
       "      <td>0.0</td>\n",
       "      <td>0.000000e+00</td>\n",
       "      <td>0.0</td>\n",
       "      <td>0.0</td>\n",
       "      <td>0.0</td>\n",
       "      <td>36296113.0</td>\n",
       "      <td>0.000000e+00</td>\n",
       "    </tr>\n",
       "    <tr>\n",
       "      <th>12</th>\n",
       "      <td>Afghanistan</td>\n",
       "      <td>Céréales, Autres</td>\n",
       "      <td>vegetale</td>\n",
       "      <td>0.0</td>\n",
       "      <td>0.0</td>\n",
       "      <td>0.0</td>\n",
       "      <td>0.00</td>\n",
       "      <td>0.00</td>\n",
       "      <td>0.00</td>\n",
       "      <td>0.000000e+00</td>\n",
       "      <td>0.0</td>\n",
       "      <td>0.000000e+00</td>\n",
       "      <td>0.000000e+00</td>\n",
       "      <td>0.0</td>\n",
       "      <td>0.000000e+00</td>\n",
       "      <td>0.0</td>\n",
       "      <td>0.0</td>\n",
       "      <td>0.0</td>\n",
       "      <td>36296113.0</td>\n",
       "      <td>0.000000e+00</td>\n",
       "    </tr>\n",
       "    <tr>\n",
       "      <th>13</th>\n",
       "      <td>Afghanistan</td>\n",
       "      <td>Dattes</td>\n",
       "      <td>vegetale</td>\n",
       "      <td>0.0</td>\n",
       "      <td>0.0</td>\n",
       "      <td>0.0</td>\n",
       "      <td>0.02</td>\n",
       "      <td>0.00</td>\n",
       "      <td>0.00</td>\n",
       "      <td>1.000000e+06</td>\n",
       "      <td>0.0</td>\n",
       "      <td>1.000000e+06</td>\n",
       "      <td>1.000000e+06</td>\n",
       "      <td>0.0</td>\n",
       "      <td>0.000000e+00</td>\n",
       "      <td>0.0</td>\n",
       "      <td>0.0</td>\n",
       "      <td>0.0</td>\n",
       "      <td>36296113.0</td>\n",
       "      <td>0.000000e+00</td>\n",
       "    </tr>\n",
       "    <tr>\n",
       "      <th>14</th>\n",
       "      <td>Afghanistan</td>\n",
       "      <td>Edulcorants Autres</td>\n",
       "      <td>vegetale</td>\n",
       "      <td>0.0</td>\n",
       "      <td>0.0</td>\n",
       "      <td>2.0</td>\n",
       "      <td>0.53</td>\n",
       "      <td>0.00</td>\n",
       "      <td>0.00</td>\n",
       "      <td>1.600000e+07</td>\n",
       "      <td>0.0</td>\n",
       "      <td>1.600000e+07</td>\n",
       "      <td>1.600000e+07</td>\n",
       "      <td>0.0</td>\n",
       "      <td>0.000000e+00</td>\n",
       "      <td>0.0</td>\n",
       "      <td>0.0</td>\n",
       "      <td>0.0</td>\n",
       "      <td>36296113.0</td>\n",
       "      <td>2.649616e+10</td>\n",
       "    </tr>\n",
       "    <tr>\n",
       "      <th>15</th>\n",
       "      <td>Afghanistan</td>\n",
       "      <td>Feve de Cacao</td>\n",
       "      <td>vegetale</td>\n",
       "      <td>0.0</td>\n",
       "      <td>0.0</td>\n",
       "      <td>0.0</td>\n",
       "      <td>0.02</td>\n",
       "      <td>0.04</td>\n",
       "      <td>0.01</td>\n",
       "      <td>1.000000e+06</td>\n",
       "      <td>0.0</td>\n",
       "      <td>1.000000e+06</td>\n",
       "      <td>1.000000e+06</td>\n",
       "      <td>0.0</td>\n",
       "      <td>0.000000e+00</td>\n",
       "      <td>0.0</td>\n",
       "      <td>0.0</td>\n",
       "      <td>0.0</td>\n",
       "      <td>36296113.0</td>\n",
       "      <td>0.000000e+00</td>\n",
       "    </tr>\n",
       "    <tr>\n",
       "      <th>16</th>\n",
       "      <td>Afghanistan</td>\n",
       "      <td>Fruits, Autres</td>\n",
       "      <td>vegetale</td>\n",
       "      <td>0.0</td>\n",
       "      <td>0.0</td>\n",
       "      <td>9.0</td>\n",
       "      <td>7.29</td>\n",
       "      <td>0.06</td>\n",
       "      <td>0.14</td>\n",
       "      <td>2.400000e+08</td>\n",
       "      <td>69000000.0</td>\n",
       "      <td>4.000000e+06</td>\n",
       "      <td>2.230000e+08</td>\n",
       "      <td>17000000.0</td>\n",
       "      <td>3.040000e+08</td>\n",
       "      <td>0.0</td>\n",
       "      <td>0.0</td>\n",
       "      <td>1000000.0</td>\n",
       "      <td>36296113.0</td>\n",
       "      <td>1.192327e+11</td>\n",
       "    </tr>\n",
       "    <tr>\n",
       "      <th>17</th>\n",
       "      <td>Afghanistan</td>\n",
       "      <td>Graines de coton</td>\n",
       "      <td>vegetale</td>\n",
       "      <td>0.0</td>\n",
       "      <td>0.0</td>\n",
       "      <td>0.0</td>\n",
       "      <td>0.00</td>\n",
       "      <td>0.00</td>\n",
       "      <td>0.00</td>\n",
       "      <td>2.700000e+07</td>\n",
       "      <td>0.0</td>\n",
       "      <td>0.000000e+00</td>\n",
       "      <td>0.000000e+00</td>\n",
       "      <td>0.0</td>\n",
       "      <td>2.700000e+07</td>\n",
       "      <td>1000000.0</td>\n",
       "      <td>26000000.0</td>\n",
       "      <td>0.0</td>\n",
       "      <td>36296113.0</td>\n",
       "      <td>0.000000e+00</td>\n",
       "    </tr>\n",
       "    <tr>\n",
       "      <th>18</th>\n",
       "      <td>Afghanistan</td>\n",
       "      <td>Graines de tournesol</td>\n",
       "      <td>vegetale</td>\n",
       "      <td>0.0</td>\n",
       "      <td>0.0</td>\n",
       "      <td>0.0</td>\n",
       "      <td>0.00</td>\n",
       "      <td>0.00</td>\n",
       "      <td>0.00</td>\n",
       "      <td>3.000000e+06</td>\n",
       "      <td>0.0</td>\n",
       "      <td>0.000000e+00</td>\n",
       "      <td>0.000000e+00</td>\n",
       "      <td>0.0</td>\n",
       "      <td>3.000000e+06</td>\n",
       "      <td>0.0</td>\n",
       "      <td>3000000.0</td>\n",
       "      <td>0.0</td>\n",
       "      <td>36296113.0</td>\n",
       "      <td>0.000000e+00</td>\n",
       "    </tr>\n",
       "    <tr>\n",
       "      <th>20</th>\n",
       "      <td>Afghanistan</td>\n",
       "      <td>Huil Plantes Oleif Autr</td>\n",
       "      <td>vegetale</td>\n",
       "      <td>0.0</td>\n",
       "      <td>359000000.0</td>\n",
       "      <td>2.0</td>\n",
       "      <td>0.08</td>\n",
       "      <td>0.21</td>\n",
       "      <td>0.00</td>\n",
       "      <td>3.610000e+08</td>\n",
       "      <td>0.0</td>\n",
       "      <td>3.600000e+08</td>\n",
       "      <td>2.000000e+06</td>\n",
       "      <td>0.0</td>\n",
       "      <td>1.000000e+06</td>\n",
       "      <td>0.0</td>\n",
       "      <td>0.0</td>\n",
       "      <td>0.0</td>\n",
       "      <td>36296113.0</td>\n",
       "      <td>2.649616e+10</td>\n",
       "    </tr>\n",
       "    <tr>\n",
       "      <th>21</th>\n",
       "      <td>Afghanistan</td>\n",
       "      <td>Huile Graines de Coton</td>\n",
       "      <td>vegetale</td>\n",
       "      <td>0.0</td>\n",
       "      <td>1000000.0</td>\n",
       "      <td>3.0</td>\n",
       "      <td>0.12</td>\n",
       "      <td>0.34</td>\n",
       "      <td>0.00</td>\n",
       "      <td>5.000000e+06</td>\n",
       "      <td>0.0</td>\n",
       "      <td>0.000000e+00</td>\n",
       "      <td>4.000000e+06</td>\n",
       "      <td>0.0</td>\n",
       "      <td>5.000000e+06</td>\n",
       "      <td>0.0</td>\n",
       "      <td>0.0</td>\n",
       "      <td>0.0</td>\n",
       "      <td>36296113.0</td>\n",
       "      <td>3.974424e+10</td>\n",
       "    </tr>\n",
       "    <tr>\n",
       "      <th>22</th>\n",
       "      <td>Afghanistan</td>\n",
       "      <td>Huile d'Arachide</td>\n",
       "      <td>vegetale</td>\n",
       "      <td>0.0</td>\n",
       "      <td>0.0</td>\n",
       "      <td>0.0</td>\n",
       "      <td>0.00</td>\n",
       "      <td>0.00</td>\n",
       "      <td>0.00</td>\n",
       "      <td>0.000000e+00</td>\n",
       "      <td>0.0</td>\n",
       "      <td>0.000000e+00</td>\n",
       "      <td>0.000000e+00</td>\n",
       "      <td>0.0</td>\n",
       "      <td>0.000000e+00</td>\n",
       "      <td>0.0</td>\n",
       "      <td>0.0</td>\n",
       "      <td>0.0</td>\n",
       "      <td>36296113.0</td>\n",
       "      <td>0.000000e+00</td>\n",
       "    </tr>\n",
       "    <tr>\n",
       "      <th>23</th>\n",
       "      <td>Afghanistan</td>\n",
       "      <td>Huile d'Olive</td>\n",
       "      <td>vegetale</td>\n",
       "      <td>0.0</td>\n",
       "      <td>0.0</td>\n",
       "      <td>0.0</td>\n",
       "      <td>0.02</td>\n",
       "      <td>0.05</td>\n",
       "      <td>0.00</td>\n",
       "      <td>1.000000e+06</td>\n",
       "      <td>0.0</td>\n",
       "      <td>0.000000e+00</td>\n",
       "      <td>1.000000e+06</td>\n",
       "      <td>0.0</td>\n",
       "      <td>1.000000e+06</td>\n",
       "      <td>0.0</td>\n",
       "      <td>0.0</td>\n",
       "      <td>0.0</td>\n",
       "      <td>36296113.0</td>\n",
       "      <td>0.000000e+00</td>\n",
       "    </tr>\n",
       "  </tbody>\n",
       "</table>\n",
       "</div>"
      ]
     },
     "execution_count": 39,
     "metadata": {},
     "output_type": "execute_result"
    }
   ],
   "execution_count": 39
  },
  {
   "cell_type": "code",
   "id": "534f3ad7",
   "metadata": {
    "ExecuteTime": {
     "end_time": "2024-12-08T13:58:57.913030Z",
     "start_time": "2024-12-08T13:58:57.905403Z"
    }
   },
   "source": [
    "#Calcul du nombre de kcal disponible pour les végétaux\n",
    "total_kcal_vegetaux = round(vegetaux_df['dispo_kcal'].sum() / (2250 * 365))\n",
    "print(total_kcal_vegetaux)"
   ],
   "outputs": [
    {
     "name": "stdout",
     "output_type": "stream",
     "text": [
      "7671450761\n"
     ]
    }
   ],
   "execution_count": 40
  },
  {
   "cell_type": "code",
   "id": "8c82da41",
   "metadata": {
    "ExecuteTime": {
     "end_time": "2024-12-08T13:58:58.202985Z",
     "start_time": "2024-12-08T13:58:58.196551Z"
    }
   },
   "source": [
    "#Calcul du nombre d'humains pouvant être nourris avec les végétaux\n",
    "proportion_humain_vegetaux = round(total_kcal_vegetaux / pop_nut['Population'].sum(), 2)\n",
    "print(proportion_humain_vegetaux) #ajouter pourcentage"
   ],
   "outputs": [
    {
     "name": "stdout",
     "output_type": "stream",
     "text": [
      "1.02\n"
     ]
    }
   ],
   "execution_count": 41
  },
  {
   "cell_type": "markdown",
   "id": "cd07afb1",
   "metadata": {},
   "source": [
    "<div style=\"border: 1px solid RGB(0,150,250);\" >\n",
    "<h3 style=\"margin: auto; padding: 20px; color: RGB(0,150,250); \">3.4 - Utilisation de la disponibilité intérieure</h3>\n",
    "</div>"
   ]
  },
  {
   "cell_type": "code",
   "id": "71328746",
   "metadata": {
    "ExecuteTime": {
     "end_time": "2024-12-08T13:58:58.405703Z",
     "start_time": "2024-12-08T13:58:58.395355Z"
    }
   },
   "source": [
    "#Calcul de la disponibilité totale\n",
    "dispo_alimentaire_total = dispo_alimentaire['Disponibilité intérieure'].sum()\n",
    "print(dispo_alimentaire_total)"
   ],
   "outputs": [
    {
     "name": "stdout",
     "output_type": "stream",
     "text": [
      "9733927000000.0\n"
     ]
    }
   ],
   "execution_count": 42
  },
  {
   "cell_type": "code",
   "id": "03248095",
   "metadata": {
    "ExecuteTime": {
     "end_time": "2024-12-08T13:58:58.607252Z",
     "start_time": "2024-12-08T13:58:58.594900Z"
    }
   },
   "source": [
    "#création d'une boucle for pour afficher les différentes valeurs en fonction des colonnes aliments pour animaux, pertes, nourritures,\n",
    "for column in ['Aliments pour animaux', 'Pertes', 'Nourriture', 'Semences', 'Traitement', 'Autres Utilisations']:\n",
    "    #trouver un pourcentage\n",
    "    if column in dispo_alimentaire.columns:\n",
    "           print(f\"{column}: {(dispo_alimentaire[column].sum() * 100 / dispo_alimentaire_total).round(2)}%\")\n",
    "\n",
    "# mettre pourcentage\n",
    "\n"
   ],
   "outputs": [
    {
     "name": "stdout",
     "output_type": "stream",
     "text": [
      "Aliments pour animaux: 13.23%\n",
      "Pertes: 4.65%\n",
      "Nourriture: 49.37%\n",
      "Semences: 1.58%\n",
      "Traitement: 22.45%\n",
      "Autres Utilisations: 8.82%\n"
     ]
    }
   ],
   "execution_count": 43
  },
  {
   "cell_type": "markdown",
   "id": "141d05df",
   "metadata": {},
   "source": [
    "<div style=\"border: 1px solid RGB(0,150,250);\" >\n",
    "<h3 style=\"margin: auto; padding: 20px; color: RGB(0,150,250); \">3.5 - Utilisation des céréales</h3>\n",
    "</div>"
   ]
  },
  {
   "cell_type": "code",
   "id": "c27448ff",
   "metadata": {
    "ExecuteTime": {
     "end_time": "2024-12-08T13:58:58.663858Z",
     "start_time": "2024-12-08T13:58:58.654865Z"
    }
   },
   "source": [
    "#Création d'une liste avec toutes les variables\n",
    "cereale = [\"Blé\", \"Riz (Eq Blanchi)\", \"Orge\", \"Maïs\", \"Seigle\",\n",
    "                  \"Avoine\", \"Millet\", \"Sorgho\", \"Céréales, Autres\"]\n",
    "dispo_alimentaire.columns"
   ],
   "outputs": [
    {
     "data": {
      "text/plain": [
       "Index(['Zone', 'Produit', 'Origine', 'Aliments pour animaux',\n",
       "       'Autres Utilisations', 'Disponibilité alimentaire (Kcal/personne/jour)',\n",
       "       'Disponibilité alimentaire en quantité (kg/personne/an)',\n",
       "       'Disponibilité de matière grasse en quantité (g/personne/jour)',\n",
       "       'Disponibilité de protéines en quantité (g/personne/jour)',\n",
       "       'Disponibilité intérieure', 'Exportations - Quantité',\n",
       "       'Importations - Quantité', 'Nourriture', 'Pertes', 'Production',\n",
       "       'Semences', 'Traitement', 'Variation de stock', 'Population',\n",
       "       'dispo_kcal'],\n",
       "      dtype='object')"
      ]
     },
     "execution_count": 44,
     "metadata": {},
     "output_type": "execute_result"
    }
   ],
   "execution_count": 44
  },
  {
   "cell_type": "code",
   "id": "5dc5586d",
   "metadata": {
    "ExecuteTime": {
     "end_time": "2024-12-08T13:58:58.748067Z",
     "start_time": "2024-12-08T13:58:58.739911Z"
    }
   },
   "source": [
    "#Création d'un dataframe avec les informations uniquement pour ces céréales\n",
    "cereales = dispo_alimentaire.loc[dispo_alimentaire['Produit'].isin(cereale),:]"
   ],
   "outputs": [],
   "execution_count": 45
  },
  {
   "cell_type": "code",
   "id": "8365de95",
   "metadata": {
    "ExecuteTime": {
     "end_time": "2024-12-08T13:58:58.814087Z",
     "start_time": "2024-12-08T13:58:58.807374Z"
    }
   },
   "source": [
    "#Affichage de la proportion d'alimentation animale\n",
    "proportion_animale = cereales ['Aliments pour animaux'].sum() *100 / cereales['Disponibilité intérieure'].sum()\n",
    "print('La proportion de nourriture est de ', proportion_animale.round(2), '%')"
   ],
   "outputs": [
    {
     "name": "stdout",
     "output_type": "stream",
     "text": [
      "La proportion de nourriture est de  36.14 %\n"
     ]
    }
   ],
   "execution_count": 46
  },
  {
   "cell_type": "code",
   "id": "6f5e93c7",
   "metadata": {
    "ExecuteTime": {
     "end_time": "2024-12-08T13:58:58.882191Z",
     "start_time": "2024-12-08T13:58:58.875711Z"
    }
   },
   "source": [
    "#Affichage de la proportion d'alimentation humaine\n",
    "proportion_humaine = cereales ['Nourriture'].sum() *100 / cereales['Disponibilité intérieure'].sum()\n",
    "print('La proportion de nourriture est de ', proportion_humaine.round(2), '%')\n"
   ],
   "outputs": [
    {
     "name": "stdout",
     "output_type": "stream",
     "text": [
      "La proportion de nourriture est de  42.91 %\n"
     ]
    }
   ],
   "execution_count": 47
  },
  {
   "cell_type": "markdown",
   "id": "a603be79",
   "metadata": {},
   "source": [
    "<div style=\"border: 1px solid RGB(0,150,250);\" >\n",
    "<h3 style=\"margin: auto; padding: 20px; color: RGB(0,150,250); \">3.6 - Pays avec la proportion de personnes sous-alimentée la plus forte en 2017</h3>\n",
    "</div>"
   ]
  },
  {
   "cell_type": "code",
   "id": "1884c270",
   "metadata": {
    "ExecuteTime": {
     "end_time": "2024-12-08T13:58:58.957975Z",
     "start_time": "2024-12-08T13:58:58.950286Z"
    }
   },
   "source": [
    "#Création de la colonne proportion par pays\n",
    "pop_nut['proportion'] = pop_nut['sous_nutrition'] / pop_nut['Population']\n"
   ],
   "outputs": [],
   "execution_count": 48
  },
  {
   "cell_type": "code",
   "id": "25a185b6",
   "metadata": {
    "ExecuteTime": {
     "end_time": "2024-12-08T13:58:59.052899Z",
     "start_time": "2024-12-08T13:58:59.028804Z"
    }
   },
   "source": [
    "#affichage après trie des 10 pires pays\n",
    "pop_nut[['Zone', 'proportion']].sort_values(by='proportion', ascending=False).head(10)\n"
   ],
   "outputs": [
    {
     "data": {
      "text/plain": [
       "                                           Zone  proportion\n",
       "78                                        Haïti    0.482592\n",
       "157  République populaire démocratique de Corée    0.471887\n",
       "108                                  Madagascar    0.410629\n",
       "103                                     Libéria    0.382797\n",
       "100                                     Lesotho    0.382494\n",
       "183                                       Tchad    0.379576\n",
       "161                                      Rwanda    0.350556\n",
       "121                                  Mozambique    0.328109\n",
       "186                                 Timor-Leste    0.321735\n",
       "0                                   Afghanistan    0.289287"
      ],
      "text/html": [
       "<div>\n",
       "<style scoped>\n",
       "    .dataframe tbody tr th:only-of-type {\n",
       "        vertical-align: middle;\n",
       "    }\n",
       "\n",
       "    .dataframe tbody tr th {\n",
       "        vertical-align: top;\n",
       "    }\n",
       "\n",
       "    .dataframe thead th {\n",
       "        text-align: right;\n",
       "    }\n",
       "</style>\n",
       "<table border=\"1\" class=\"dataframe\">\n",
       "  <thead>\n",
       "    <tr style=\"text-align: right;\">\n",
       "      <th></th>\n",
       "      <th>Zone</th>\n",
       "      <th>proportion</th>\n",
       "    </tr>\n",
       "  </thead>\n",
       "  <tbody>\n",
       "    <tr>\n",
       "      <th>78</th>\n",
       "      <td>Haïti</td>\n",
       "      <td>0.482592</td>\n",
       "    </tr>\n",
       "    <tr>\n",
       "      <th>157</th>\n",
       "      <td>République populaire démocratique de Corée</td>\n",
       "      <td>0.471887</td>\n",
       "    </tr>\n",
       "    <tr>\n",
       "      <th>108</th>\n",
       "      <td>Madagascar</td>\n",
       "      <td>0.410629</td>\n",
       "    </tr>\n",
       "    <tr>\n",
       "      <th>103</th>\n",
       "      <td>Libéria</td>\n",
       "      <td>0.382797</td>\n",
       "    </tr>\n",
       "    <tr>\n",
       "      <th>100</th>\n",
       "      <td>Lesotho</td>\n",
       "      <td>0.382494</td>\n",
       "    </tr>\n",
       "    <tr>\n",
       "      <th>183</th>\n",
       "      <td>Tchad</td>\n",
       "      <td>0.379576</td>\n",
       "    </tr>\n",
       "    <tr>\n",
       "      <th>161</th>\n",
       "      <td>Rwanda</td>\n",
       "      <td>0.350556</td>\n",
       "    </tr>\n",
       "    <tr>\n",
       "      <th>121</th>\n",
       "      <td>Mozambique</td>\n",
       "      <td>0.328109</td>\n",
       "    </tr>\n",
       "    <tr>\n",
       "      <th>186</th>\n",
       "      <td>Timor-Leste</td>\n",
       "      <td>0.321735</td>\n",
       "    </tr>\n",
       "    <tr>\n",
       "      <th>0</th>\n",
       "      <td>Afghanistan</td>\n",
       "      <td>0.289287</td>\n",
       "    </tr>\n",
       "  </tbody>\n",
       "</table>\n",
       "</div>"
      ]
     },
     "execution_count": 49,
     "metadata": {},
     "output_type": "execute_result"
    }
   ],
   "execution_count": 49
  },
  {
   "cell_type": "markdown",
   "id": "4f610008",
   "metadata": {},
   "source": [
    "<div style=\"border: 1px solid RGB(0,150,250);\" >\n",
    "<h3 style=\"margin: auto; padding: 20px; color: RGB(0,150,250); \">3.7 - Pays qui ont le plus bénéficié d'aide alimentaire depuis 2013</h3>\n",
    "</div>"
   ]
  },
  {
   "cell_type": "code",
   "id": "ff1b24a3",
   "metadata": {
    "ExecuteTime": {
     "end_time": "2024-12-08T13:58:59.178929Z",
     "start_time": "2024-12-08T13:58:59.163622Z"
    }
   },
   "source": [
    "#calcul du total de l'aide alimentaire par pays\n",
    "aide_alimentaire.head(5)"
   ],
   "outputs": [
    {
     "data": {
      "text/plain": [
       "          Zone  Année              Produit  Aide Alimentaire\n",
       "0  Afghanistan   2013  Autres non-céréales            682000\n",
       "1  Afghanistan   2014  Autres non-céréales            335000\n",
       "2  Afghanistan   2013         Blé et Farin          39224000\n",
       "3  Afghanistan   2014         Blé et Farin          15160000\n",
       "4  Afghanistan   2013             Céréales          40504000"
      ],
      "text/html": [
       "<div>\n",
       "<style scoped>\n",
       "    .dataframe tbody tr th:only-of-type {\n",
       "        vertical-align: middle;\n",
       "    }\n",
       "\n",
       "    .dataframe tbody tr th {\n",
       "        vertical-align: top;\n",
       "    }\n",
       "\n",
       "    .dataframe thead th {\n",
       "        text-align: right;\n",
       "    }\n",
       "</style>\n",
       "<table border=\"1\" class=\"dataframe\">\n",
       "  <thead>\n",
       "    <tr style=\"text-align: right;\">\n",
       "      <th></th>\n",
       "      <th>Zone</th>\n",
       "      <th>Année</th>\n",
       "      <th>Produit</th>\n",
       "      <th>Aide Alimentaire</th>\n",
       "    </tr>\n",
       "  </thead>\n",
       "  <tbody>\n",
       "    <tr>\n",
       "      <th>0</th>\n",
       "      <td>Afghanistan</td>\n",
       "      <td>2013</td>\n",
       "      <td>Autres non-céréales</td>\n",
       "      <td>682000</td>\n",
       "    </tr>\n",
       "    <tr>\n",
       "      <th>1</th>\n",
       "      <td>Afghanistan</td>\n",
       "      <td>2014</td>\n",
       "      <td>Autres non-céréales</td>\n",
       "      <td>335000</td>\n",
       "    </tr>\n",
       "    <tr>\n",
       "      <th>2</th>\n",
       "      <td>Afghanistan</td>\n",
       "      <td>2013</td>\n",
       "      <td>Blé et Farin</td>\n",
       "      <td>39224000</td>\n",
       "    </tr>\n",
       "    <tr>\n",
       "      <th>3</th>\n",
       "      <td>Afghanistan</td>\n",
       "      <td>2014</td>\n",
       "      <td>Blé et Farin</td>\n",
       "      <td>15160000</td>\n",
       "    </tr>\n",
       "    <tr>\n",
       "      <th>4</th>\n",
       "      <td>Afghanistan</td>\n",
       "      <td>2013</td>\n",
       "      <td>Céréales</td>\n",
       "      <td>40504000</td>\n",
       "    </tr>\n",
       "  </tbody>\n",
       "</table>\n",
       "</div>"
      ]
     },
     "execution_count": 50,
     "metadata": {},
     "output_type": "execute_result"
    }
   ],
   "execution_count": 50
  },
  {
   "cell_type": "code",
   "id": "ee1ac6fb",
   "metadata": {
    "ExecuteTime": {
     "end_time": "2024-12-08T13:58:59.254019Z",
     "start_time": "2024-12-08T13:58:59.233567Z"
    }
   },
   "source": [
    "#affichage après trie des 10 pays qui ont bénéficié le plus de l'aide alimentaire\n",
    "aide = aide_alimentaire[['Zone','Aide Alimentaire']].groupby(\"Zone\").sum()\n",
    "aide.sort_values(by='Aide Alimentaire', ascending=False).head(10)"
   ],
   "outputs": [
    {
     "data": {
      "text/plain": [
       "                                  Aide Alimentaire\n",
       "Zone                                              \n",
       "République arabe syrienne               1858943000\n",
       "Éthiopie                                1381294000\n",
       "Yémen                                   1206484000\n",
       "Soudan du Sud                            695248000\n",
       "Soudan                                   669784000\n",
       "Kenya                                    552836000\n",
       "Bangladesh                               348188000\n",
       "Somalie                                  292678000\n",
       "République démocratique du Congo         288502000\n",
       "Niger                                    276344000"
      ],
      "text/html": [
       "<div>\n",
       "<style scoped>\n",
       "    .dataframe tbody tr th:only-of-type {\n",
       "        vertical-align: middle;\n",
       "    }\n",
       "\n",
       "    .dataframe tbody tr th {\n",
       "        vertical-align: top;\n",
       "    }\n",
       "\n",
       "    .dataframe thead th {\n",
       "        text-align: right;\n",
       "    }\n",
       "</style>\n",
       "<table border=\"1\" class=\"dataframe\">\n",
       "  <thead>\n",
       "    <tr style=\"text-align: right;\">\n",
       "      <th></th>\n",
       "      <th>Aide Alimentaire</th>\n",
       "    </tr>\n",
       "    <tr>\n",
       "      <th>Zone</th>\n",
       "      <th></th>\n",
       "    </tr>\n",
       "  </thead>\n",
       "  <tbody>\n",
       "    <tr>\n",
       "      <th>République arabe syrienne</th>\n",
       "      <td>1858943000</td>\n",
       "    </tr>\n",
       "    <tr>\n",
       "      <th>Éthiopie</th>\n",
       "      <td>1381294000</td>\n",
       "    </tr>\n",
       "    <tr>\n",
       "      <th>Yémen</th>\n",
       "      <td>1206484000</td>\n",
       "    </tr>\n",
       "    <tr>\n",
       "      <th>Soudan du Sud</th>\n",
       "      <td>695248000</td>\n",
       "    </tr>\n",
       "    <tr>\n",
       "      <th>Soudan</th>\n",
       "      <td>669784000</td>\n",
       "    </tr>\n",
       "    <tr>\n",
       "      <th>Kenya</th>\n",
       "      <td>552836000</td>\n",
       "    </tr>\n",
       "    <tr>\n",
       "      <th>Bangladesh</th>\n",
       "      <td>348188000</td>\n",
       "    </tr>\n",
       "    <tr>\n",
       "      <th>Somalie</th>\n",
       "      <td>292678000</td>\n",
       "    </tr>\n",
       "    <tr>\n",
       "      <th>République démocratique du Congo</th>\n",
       "      <td>288502000</td>\n",
       "    </tr>\n",
       "    <tr>\n",
       "      <th>Niger</th>\n",
       "      <td>276344000</td>\n",
       "    </tr>\n",
       "  </tbody>\n",
       "</table>\n",
       "</div>"
      ]
     },
     "execution_count": 51,
     "metadata": {},
     "output_type": "execute_result"
    }
   ],
   "execution_count": 51
  },
  {
   "cell_type": "markdown",
   "id": "a361ce61",
   "metadata": {},
   "source": [
    "<div style=\"border: 1px solid RGB(0,150,250);\" >\n",
    "<h3 style=\"margin: auto; padding: 20px; color: RGB(0,150,250); \">3.8 - Evolution des 5 pays qui ont le plus bénéficiés de l'aide alimentaire entre 2013 et 2016</h3>\n",
    "</div>"
   ]
  },
  {
   "cell_type": "code",
   "id": "09d55114",
   "metadata": {
    "ExecuteTime": {
     "end_time": "2024-12-08T13:58:59.540780Z",
     "start_time": "2024-12-08T13:58:59.510797Z"
    }
   },
   "source": [
    "#Création d'un dataframe avec la zone, l'année et l'aide alimentaire puis groupby sur zone et année\n",
    "aide_par_pays_annee = aide_alimentaire.groupby(['Zone', 'Année'])['Aide Alimentaire'].sum().reset_index()\n",
    "aide_par_pays_annee.sort_values(by='Aide Alimentaire', ascending=False).head(10)"
   ],
   "outputs": [
    {
     "data": {
      "text/plain": [
       "                          Zone  Année  Aide Alimentaire\n",
       "158  République arabe syrienne   2014         651870000\n",
       "225                   Éthiopie   2013         591404000\n",
       "226                   Éthiopie   2014         586624000\n",
       "157  République arabe syrienne   2013         563566000\n",
       "159  République arabe syrienne   2015         524949000\n",
       "217                      Yémen   2016         465574000\n",
       "193              Soudan du Sud   2014         450610000\n",
       "216                      Yémen   2015         372306000\n",
       "189                     Soudan   2013         330230000\n",
       "190                     Soudan   2014         321904000"
      ],
      "text/html": [
       "<div>\n",
       "<style scoped>\n",
       "    .dataframe tbody tr th:only-of-type {\n",
       "        vertical-align: middle;\n",
       "    }\n",
       "\n",
       "    .dataframe tbody tr th {\n",
       "        vertical-align: top;\n",
       "    }\n",
       "\n",
       "    .dataframe thead th {\n",
       "        text-align: right;\n",
       "    }\n",
       "</style>\n",
       "<table border=\"1\" class=\"dataframe\">\n",
       "  <thead>\n",
       "    <tr style=\"text-align: right;\">\n",
       "      <th></th>\n",
       "      <th>Zone</th>\n",
       "      <th>Année</th>\n",
       "      <th>Aide Alimentaire</th>\n",
       "    </tr>\n",
       "  </thead>\n",
       "  <tbody>\n",
       "    <tr>\n",
       "      <th>158</th>\n",
       "      <td>République arabe syrienne</td>\n",
       "      <td>2014</td>\n",
       "      <td>651870000</td>\n",
       "    </tr>\n",
       "    <tr>\n",
       "      <th>225</th>\n",
       "      <td>Éthiopie</td>\n",
       "      <td>2013</td>\n",
       "      <td>591404000</td>\n",
       "    </tr>\n",
       "    <tr>\n",
       "      <th>226</th>\n",
       "      <td>Éthiopie</td>\n",
       "      <td>2014</td>\n",
       "      <td>586624000</td>\n",
       "    </tr>\n",
       "    <tr>\n",
       "      <th>157</th>\n",
       "      <td>République arabe syrienne</td>\n",
       "      <td>2013</td>\n",
       "      <td>563566000</td>\n",
       "    </tr>\n",
       "    <tr>\n",
       "      <th>159</th>\n",
       "      <td>République arabe syrienne</td>\n",
       "      <td>2015</td>\n",
       "      <td>524949000</td>\n",
       "    </tr>\n",
       "    <tr>\n",
       "      <th>217</th>\n",
       "      <td>Yémen</td>\n",
       "      <td>2016</td>\n",
       "      <td>465574000</td>\n",
       "    </tr>\n",
       "    <tr>\n",
       "      <th>193</th>\n",
       "      <td>Soudan du Sud</td>\n",
       "      <td>2014</td>\n",
       "      <td>450610000</td>\n",
       "    </tr>\n",
       "    <tr>\n",
       "      <th>216</th>\n",
       "      <td>Yémen</td>\n",
       "      <td>2015</td>\n",
       "      <td>372306000</td>\n",
       "    </tr>\n",
       "    <tr>\n",
       "      <th>189</th>\n",
       "      <td>Soudan</td>\n",
       "      <td>2013</td>\n",
       "      <td>330230000</td>\n",
       "    </tr>\n",
       "    <tr>\n",
       "      <th>190</th>\n",
       "      <td>Soudan</td>\n",
       "      <td>2014</td>\n",
       "      <td>321904000</td>\n",
       "    </tr>\n",
       "  </tbody>\n",
       "</table>\n",
       "</div>"
      ]
     },
     "execution_count": 52,
     "metadata": {},
     "output_type": "execute_result"
    }
   ],
   "execution_count": 52
  },
  {
   "cell_type": "code",
   "id": "6bd577b0",
   "metadata": {
    "ExecuteTime": {
     "end_time": "2024-12-08T13:58:59.659114Z",
     "start_time": "2024-12-08T13:58:59.654152Z"
    }
   },
   "source": [
    "#Création d'une liste contenant les 5 pays qui ont le plus bénéficiées de l'aide alimentaire\n",
    "liste_5_pays =  ['République arabe syrienne', 'Éthiopie','Yémen','Soudan du Sud','Soudan']"
   ],
   "outputs": [],
   "execution_count": 53
  },
  {
   "cell_type": "code",
   "id": "41612dbd",
   "metadata": {
    "ExecuteTime": {
     "end_time": "2024-12-08T13:58:59.825325Z",
     "start_time": "2024-12-08T13:58:59.816502Z"
    }
   },
   "source": [
    "# On filtre sur le dataframe avec notre liste\n",
    "top_5_aide = aide_par_pays_annee.loc[aide_par_pays_annee['Zone'].isin(liste_5_pays),:]"
   ],
   "outputs": [],
   "execution_count": 54
  },
  {
   "cell_type": "code",
   "id": "5680e72d",
   "metadata": {
    "ExecuteTime": {
     "end_time": "2024-12-08T13:59:00.007462Z",
     "start_time": "2024-12-08T13:58:59.987140Z"
    }
   },
   "source": [
    "# Affichage des pays avec l'aide alimentaire par année\n",
    "top_5_aide"
   ],
   "outputs": [
    {
     "data": {
      "text/plain": [
       "                          Zone  Année  Aide Alimentaire\n",
       "157  République arabe syrienne   2013         563566000\n",
       "158  République arabe syrienne   2014         651870000\n",
       "159  République arabe syrienne   2015         524949000\n",
       "160  République arabe syrienne   2016         118558000\n",
       "189                     Soudan   2013         330230000\n",
       "190                     Soudan   2014         321904000\n",
       "191                     Soudan   2015          17650000\n",
       "192              Soudan du Sud   2013         196330000\n",
       "193              Soudan du Sud   2014         450610000\n",
       "194              Soudan du Sud   2015          48308000\n",
       "214                      Yémen   2013         264764000\n",
       "215                      Yémen   2014         103840000\n",
       "216                      Yémen   2015         372306000\n",
       "217                      Yémen   2016         465574000\n",
       "225                   Éthiopie   2013         591404000\n",
       "226                   Éthiopie   2014         586624000\n",
       "227                   Éthiopie   2015         203266000"
      ],
      "text/html": [
       "<div>\n",
       "<style scoped>\n",
       "    .dataframe tbody tr th:only-of-type {\n",
       "        vertical-align: middle;\n",
       "    }\n",
       "\n",
       "    .dataframe tbody tr th {\n",
       "        vertical-align: top;\n",
       "    }\n",
       "\n",
       "    .dataframe thead th {\n",
       "        text-align: right;\n",
       "    }\n",
       "</style>\n",
       "<table border=\"1\" class=\"dataframe\">\n",
       "  <thead>\n",
       "    <tr style=\"text-align: right;\">\n",
       "      <th></th>\n",
       "      <th>Zone</th>\n",
       "      <th>Année</th>\n",
       "      <th>Aide Alimentaire</th>\n",
       "    </tr>\n",
       "  </thead>\n",
       "  <tbody>\n",
       "    <tr>\n",
       "      <th>157</th>\n",
       "      <td>République arabe syrienne</td>\n",
       "      <td>2013</td>\n",
       "      <td>563566000</td>\n",
       "    </tr>\n",
       "    <tr>\n",
       "      <th>158</th>\n",
       "      <td>République arabe syrienne</td>\n",
       "      <td>2014</td>\n",
       "      <td>651870000</td>\n",
       "    </tr>\n",
       "    <tr>\n",
       "      <th>159</th>\n",
       "      <td>République arabe syrienne</td>\n",
       "      <td>2015</td>\n",
       "      <td>524949000</td>\n",
       "    </tr>\n",
       "    <tr>\n",
       "      <th>160</th>\n",
       "      <td>République arabe syrienne</td>\n",
       "      <td>2016</td>\n",
       "      <td>118558000</td>\n",
       "    </tr>\n",
       "    <tr>\n",
       "      <th>189</th>\n",
       "      <td>Soudan</td>\n",
       "      <td>2013</td>\n",
       "      <td>330230000</td>\n",
       "    </tr>\n",
       "    <tr>\n",
       "      <th>190</th>\n",
       "      <td>Soudan</td>\n",
       "      <td>2014</td>\n",
       "      <td>321904000</td>\n",
       "    </tr>\n",
       "    <tr>\n",
       "      <th>191</th>\n",
       "      <td>Soudan</td>\n",
       "      <td>2015</td>\n",
       "      <td>17650000</td>\n",
       "    </tr>\n",
       "    <tr>\n",
       "      <th>192</th>\n",
       "      <td>Soudan du Sud</td>\n",
       "      <td>2013</td>\n",
       "      <td>196330000</td>\n",
       "    </tr>\n",
       "    <tr>\n",
       "      <th>193</th>\n",
       "      <td>Soudan du Sud</td>\n",
       "      <td>2014</td>\n",
       "      <td>450610000</td>\n",
       "    </tr>\n",
       "    <tr>\n",
       "      <th>194</th>\n",
       "      <td>Soudan du Sud</td>\n",
       "      <td>2015</td>\n",
       "      <td>48308000</td>\n",
       "    </tr>\n",
       "    <tr>\n",
       "      <th>214</th>\n",
       "      <td>Yémen</td>\n",
       "      <td>2013</td>\n",
       "      <td>264764000</td>\n",
       "    </tr>\n",
       "    <tr>\n",
       "      <th>215</th>\n",
       "      <td>Yémen</td>\n",
       "      <td>2014</td>\n",
       "      <td>103840000</td>\n",
       "    </tr>\n",
       "    <tr>\n",
       "      <th>216</th>\n",
       "      <td>Yémen</td>\n",
       "      <td>2015</td>\n",
       "      <td>372306000</td>\n",
       "    </tr>\n",
       "    <tr>\n",
       "      <th>217</th>\n",
       "      <td>Yémen</td>\n",
       "      <td>2016</td>\n",
       "      <td>465574000</td>\n",
       "    </tr>\n",
       "    <tr>\n",
       "      <th>225</th>\n",
       "      <td>Éthiopie</td>\n",
       "      <td>2013</td>\n",
       "      <td>591404000</td>\n",
       "    </tr>\n",
       "    <tr>\n",
       "      <th>226</th>\n",
       "      <td>Éthiopie</td>\n",
       "      <td>2014</td>\n",
       "      <td>586624000</td>\n",
       "    </tr>\n",
       "    <tr>\n",
       "      <th>227</th>\n",
       "      <td>Éthiopie</td>\n",
       "      <td>2015</td>\n",
       "      <td>203266000</td>\n",
       "    </tr>\n",
       "  </tbody>\n",
       "</table>\n",
       "</div>"
      ]
     },
     "execution_count": 55,
     "metadata": {},
     "output_type": "execute_result"
    }
   ],
   "execution_count": 55
  },
  {
   "metadata": {},
   "cell_type": "markdown",
   "source": [
    "<div style=\"border: 1px solid RGB(0,150,250);\" >\n",
    "<h3 style=\"margin: auto; padding: 20px; color: RGB(0,150,250); \">3.9 - Pays avec le moins de disponibilité par habitant</h3>\n",
    "</div>"
   ],
   "id": "60fbecc39c05659"
  },
  {
   "cell_type": "code",
   "id": "fb3a378b",
   "metadata": {
    "ExecuteTime": {
     "end_time": "2024-12-08T13:59:00.173602Z",
     "start_time": "2024-12-08T13:59:00.131700Z"
    }
   },
   "source": [
    "# Calcul de la disponibilité en kcal par personne par an par pays\n",
    "disponibilite_kcal_an = dispo_alimentaire.drop(columns=['Disponibilité alimentaire (Kcal/personne/jour)',\t'Disponibilité alimentaire en quantité (kg/personne/an)',\t'Disponibilité de matière grasse en quantité (g/personne/jour)',\t'Disponibilité de protéines en quantité (g/personne/jour)'])\n",
    "disponibilite_kcal_an\n"
   ],
   "outputs": [
    {
     "data": {
      "text/plain": [
       "               Zone                Produit   Origine  Aliments pour animaux  \\\n",
       "0       Afghanistan       Abats Comestible   animale                    0.0   \n",
       "1       Afghanistan        Agrumes, Autres  vegetale                    0.0   \n",
       "2       Afghanistan  Aliments pour enfants  vegetale                    0.0   \n",
       "3       Afghanistan                 Ananas  vegetale                    0.0   \n",
       "4       Afghanistan                Bananes  vegetale                    0.0   \n",
       "...             ...                    ...       ...                    ...   \n",
       "15411  Îles Salomon       Viande de Suides   animale                    0.0   \n",
       "15412  Îles Salomon    Viande de Volailles   animale                    0.0   \n",
       "15413  Îles Salomon          Viande, Autre   animale                    0.0   \n",
       "15414  Îles Salomon                    Vin  vegetale                    0.0   \n",
       "15415  Îles Salomon         Épices, Autres  vegetale                    0.0   \n",
       "\n",
       "       Autres Utilisations  Disponibilité intérieure  Exportations - Quantité  \\\n",
       "0                      0.0                53000000.0                      0.0   \n",
       "1                      0.0                41000000.0                2000000.0   \n",
       "2                      0.0                 2000000.0                      0.0   \n",
       "3                      0.0                       0.0                      0.0   \n",
       "4                      0.0                82000000.0                      0.0   \n",
       "...                    ...                       ...                      ...   \n",
       "15411                  0.0                 3000000.0                      0.0   \n",
       "15412                  0.0                 2000000.0                      0.0   \n",
       "15413                  0.0                       0.0                      0.0   \n",
       "15414                  0.0                       0.0                      0.0   \n",
       "15415                  0.0                       0.0                      0.0   \n",
       "\n",
       "       Importations - Quantité  Nourriture     Pertes  Production  Semences  \\\n",
       "0                          0.0  53000000.0        0.0  53000000.0       0.0   \n",
       "1                   40000000.0  39000000.0  2000000.0   3000000.0       0.0   \n",
       "2                    2000000.0   2000000.0        0.0         0.0       0.0   \n",
       "3                          0.0         0.0        0.0         0.0       0.0   \n",
       "4                   82000000.0  82000000.0        0.0         0.0       0.0   \n",
       "...                        ...         ...        ...         ...       ...   \n",
       "15411                      0.0   3000000.0        0.0   2000000.0       0.0   \n",
       "15412                2000000.0   2000000.0        0.0         0.0       0.0   \n",
       "15413                      0.0         0.0        0.0         0.0       0.0   \n",
       "15414                      0.0         0.0        0.0         0.0       0.0   \n",
       "15415                      0.0         0.0        0.0         0.0       0.0   \n",
       "\n",
       "       Traitement  Variation de stock  Population    dispo_kcal  \n",
       "0             0.0                 0.0  36296113.0  6.624041e+10  \n",
       "1             0.0                 0.0  36296113.0  1.324808e+10  \n",
       "2             0.0                 0.0  36296113.0  1.324808e+10  \n",
       "3             0.0                 0.0  36296113.0  0.000000e+00  \n",
       "4             0.0                 0.0  36296113.0  5.299232e+10  \n",
       "...           ...                 ...         ...           ...  \n",
       "15411         0.0                 0.0    636039.0  1.044694e+10  \n",
       "15412         0.0                 0.0    636039.0  2.553697e+09  \n",
       "15413         0.0                 0.0    636039.0  0.000000e+00  \n",
       "15414         0.0                 0.0    636039.0  0.000000e+00  \n",
       "15415         0.0                 0.0    636039.0  9.286169e+08  \n",
       "\n",
       "[15416 rows x 16 columns]"
      ],
      "text/html": [
       "<div>\n",
       "<style scoped>\n",
       "    .dataframe tbody tr th:only-of-type {\n",
       "        vertical-align: middle;\n",
       "    }\n",
       "\n",
       "    .dataframe tbody tr th {\n",
       "        vertical-align: top;\n",
       "    }\n",
       "\n",
       "    .dataframe thead th {\n",
       "        text-align: right;\n",
       "    }\n",
       "</style>\n",
       "<table border=\"1\" class=\"dataframe\">\n",
       "  <thead>\n",
       "    <tr style=\"text-align: right;\">\n",
       "      <th></th>\n",
       "      <th>Zone</th>\n",
       "      <th>Produit</th>\n",
       "      <th>Origine</th>\n",
       "      <th>Aliments pour animaux</th>\n",
       "      <th>Autres Utilisations</th>\n",
       "      <th>Disponibilité intérieure</th>\n",
       "      <th>Exportations - Quantité</th>\n",
       "      <th>Importations - Quantité</th>\n",
       "      <th>Nourriture</th>\n",
       "      <th>Pertes</th>\n",
       "      <th>Production</th>\n",
       "      <th>Semences</th>\n",
       "      <th>Traitement</th>\n",
       "      <th>Variation de stock</th>\n",
       "      <th>Population</th>\n",
       "      <th>dispo_kcal</th>\n",
       "    </tr>\n",
       "  </thead>\n",
       "  <tbody>\n",
       "    <tr>\n",
       "      <th>0</th>\n",
       "      <td>Afghanistan</td>\n",
       "      <td>Abats Comestible</td>\n",
       "      <td>animale</td>\n",
       "      <td>0.0</td>\n",
       "      <td>0.0</td>\n",
       "      <td>53000000.0</td>\n",
       "      <td>0.0</td>\n",
       "      <td>0.0</td>\n",
       "      <td>53000000.0</td>\n",
       "      <td>0.0</td>\n",
       "      <td>53000000.0</td>\n",
       "      <td>0.0</td>\n",
       "      <td>0.0</td>\n",
       "      <td>0.0</td>\n",
       "      <td>36296113.0</td>\n",
       "      <td>6.624041e+10</td>\n",
       "    </tr>\n",
       "    <tr>\n",
       "      <th>1</th>\n",
       "      <td>Afghanistan</td>\n",
       "      <td>Agrumes, Autres</td>\n",
       "      <td>vegetale</td>\n",
       "      <td>0.0</td>\n",
       "      <td>0.0</td>\n",
       "      <td>41000000.0</td>\n",
       "      <td>2000000.0</td>\n",
       "      <td>40000000.0</td>\n",
       "      <td>39000000.0</td>\n",
       "      <td>2000000.0</td>\n",
       "      <td>3000000.0</td>\n",
       "      <td>0.0</td>\n",
       "      <td>0.0</td>\n",
       "      <td>0.0</td>\n",
       "      <td>36296113.0</td>\n",
       "      <td>1.324808e+10</td>\n",
       "    </tr>\n",
       "    <tr>\n",
       "      <th>2</th>\n",
       "      <td>Afghanistan</td>\n",
       "      <td>Aliments pour enfants</td>\n",
       "      <td>vegetale</td>\n",
       "      <td>0.0</td>\n",
       "      <td>0.0</td>\n",
       "      <td>2000000.0</td>\n",
       "      <td>0.0</td>\n",
       "      <td>2000000.0</td>\n",
       "      <td>2000000.0</td>\n",
       "      <td>0.0</td>\n",
       "      <td>0.0</td>\n",
       "      <td>0.0</td>\n",
       "      <td>0.0</td>\n",
       "      <td>0.0</td>\n",
       "      <td>36296113.0</td>\n",
       "      <td>1.324808e+10</td>\n",
       "    </tr>\n",
       "    <tr>\n",
       "      <th>3</th>\n",
       "      <td>Afghanistan</td>\n",
       "      <td>Ananas</td>\n",
       "      <td>vegetale</td>\n",
       "      <td>0.0</td>\n",
       "      <td>0.0</td>\n",
       "      <td>0.0</td>\n",
       "      <td>0.0</td>\n",
       "      <td>0.0</td>\n",
       "      <td>0.0</td>\n",
       "      <td>0.0</td>\n",
       "      <td>0.0</td>\n",
       "      <td>0.0</td>\n",
       "      <td>0.0</td>\n",
       "      <td>0.0</td>\n",
       "      <td>36296113.0</td>\n",
       "      <td>0.000000e+00</td>\n",
       "    </tr>\n",
       "    <tr>\n",
       "      <th>4</th>\n",
       "      <td>Afghanistan</td>\n",
       "      <td>Bananes</td>\n",
       "      <td>vegetale</td>\n",
       "      <td>0.0</td>\n",
       "      <td>0.0</td>\n",
       "      <td>82000000.0</td>\n",
       "      <td>0.0</td>\n",
       "      <td>82000000.0</td>\n",
       "      <td>82000000.0</td>\n",
       "      <td>0.0</td>\n",
       "      <td>0.0</td>\n",
       "      <td>0.0</td>\n",
       "      <td>0.0</td>\n",
       "      <td>0.0</td>\n",
       "      <td>36296113.0</td>\n",
       "      <td>5.299232e+10</td>\n",
       "    </tr>\n",
       "    <tr>\n",
       "      <th>...</th>\n",
       "      <td>...</td>\n",
       "      <td>...</td>\n",
       "      <td>...</td>\n",
       "      <td>...</td>\n",
       "      <td>...</td>\n",
       "      <td>...</td>\n",
       "      <td>...</td>\n",
       "      <td>...</td>\n",
       "      <td>...</td>\n",
       "      <td>...</td>\n",
       "      <td>...</td>\n",
       "      <td>...</td>\n",
       "      <td>...</td>\n",
       "      <td>...</td>\n",
       "      <td>...</td>\n",
       "      <td>...</td>\n",
       "    </tr>\n",
       "    <tr>\n",
       "      <th>15411</th>\n",
       "      <td>Îles Salomon</td>\n",
       "      <td>Viande de Suides</td>\n",
       "      <td>animale</td>\n",
       "      <td>0.0</td>\n",
       "      <td>0.0</td>\n",
       "      <td>3000000.0</td>\n",
       "      <td>0.0</td>\n",
       "      <td>0.0</td>\n",
       "      <td>3000000.0</td>\n",
       "      <td>0.0</td>\n",
       "      <td>2000000.0</td>\n",
       "      <td>0.0</td>\n",
       "      <td>0.0</td>\n",
       "      <td>0.0</td>\n",
       "      <td>636039.0</td>\n",
       "      <td>1.044694e+10</td>\n",
       "    </tr>\n",
       "    <tr>\n",
       "      <th>15412</th>\n",
       "      <td>Îles Salomon</td>\n",
       "      <td>Viande de Volailles</td>\n",
       "      <td>animale</td>\n",
       "      <td>0.0</td>\n",
       "      <td>0.0</td>\n",
       "      <td>2000000.0</td>\n",
       "      <td>0.0</td>\n",
       "      <td>2000000.0</td>\n",
       "      <td>2000000.0</td>\n",
       "      <td>0.0</td>\n",
       "      <td>0.0</td>\n",
       "      <td>0.0</td>\n",
       "      <td>0.0</td>\n",
       "      <td>0.0</td>\n",
       "      <td>636039.0</td>\n",
       "      <td>2.553697e+09</td>\n",
       "    </tr>\n",
       "    <tr>\n",
       "      <th>15413</th>\n",
       "      <td>Îles Salomon</td>\n",
       "      <td>Viande, Autre</td>\n",
       "      <td>animale</td>\n",
       "      <td>0.0</td>\n",
       "      <td>0.0</td>\n",
       "      <td>0.0</td>\n",
       "      <td>0.0</td>\n",
       "      <td>0.0</td>\n",
       "      <td>0.0</td>\n",
       "      <td>0.0</td>\n",
       "      <td>0.0</td>\n",
       "      <td>0.0</td>\n",
       "      <td>0.0</td>\n",
       "      <td>0.0</td>\n",
       "      <td>636039.0</td>\n",
       "      <td>0.000000e+00</td>\n",
       "    </tr>\n",
       "    <tr>\n",
       "      <th>15414</th>\n",
       "      <td>Îles Salomon</td>\n",
       "      <td>Vin</td>\n",
       "      <td>vegetale</td>\n",
       "      <td>0.0</td>\n",
       "      <td>0.0</td>\n",
       "      <td>0.0</td>\n",
       "      <td>0.0</td>\n",
       "      <td>0.0</td>\n",
       "      <td>0.0</td>\n",
       "      <td>0.0</td>\n",
       "      <td>0.0</td>\n",
       "      <td>0.0</td>\n",
       "      <td>0.0</td>\n",
       "      <td>0.0</td>\n",
       "      <td>636039.0</td>\n",
       "      <td>0.000000e+00</td>\n",
       "    </tr>\n",
       "    <tr>\n",
       "      <th>15415</th>\n",
       "      <td>Îles Salomon</td>\n",
       "      <td>Épices, Autres</td>\n",
       "      <td>vegetale</td>\n",
       "      <td>0.0</td>\n",
       "      <td>0.0</td>\n",
       "      <td>0.0</td>\n",
       "      <td>0.0</td>\n",
       "      <td>0.0</td>\n",
       "      <td>0.0</td>\n",
       "      <td>0.0</td>\n",
       "      <td>0.0</td>\n",
       "      <td>0.0</td>\n",
       "      <td>0.0</td>\n",
       "      <td>0.0</td>\n",
       "      <td>636039.0</td>\n",
       "      <td>9.286169e+08</td>\n",
       "    </tr>\n",
       "  </tbody>\n",
       "</table>\n",
       "<p>15416 rows × 16 columns</p>\n",
       "</div>"
      ]
     },
     "execution_count": 56,
     "metadata": {},
     "output_type": "execute_result"
    }
   ],
   "execution_count": 56
  },
  {
   "cell_type": "code",
   "id": "70c0f689",
   "metadata": {
    "ExecuteTime": {
     "end_time": "2024-12-08T13:59:00.352775Z",
     "start_time": "2024-12-08T13:59:00.333972Z"
    }
   },
   "source": [
    "#Affichage des 10 pays qui ont le moins de dispo alimentaire par personne\n",
    "dispo_min = disponibilite_kcal_an.groupby('Zone')['dispo_kcal'].agg('sum').sort_values(ascending=True).head(10)\n",
    "dispo_min"
   ],
   "outputs": [
    {
     "data": {
      "text/plain": [
       "Zone\n",
       "Saint-Kitts-et-Nevis               4.732009e+10\n",
       "Bermudes                           6.139838e+10\n",
       "Dominique                          7.642076e+10\n",
       "Antigua-et-Barbuda                 8.415046e+10\n",
       "Grenade                            9.882532e+10\n",
       "Saint-Vincent-et-les Grenadines    1.188575e+11\n",
       "Kiribati                           1.267531e+11\n",
       "Sainte-Lucie                       1.709988e+11\n",
       "Sao Tomé-et-Principe               1.812588e+11\n",
       "Samoa                              2.107731e+11\n",
       "Name: dispo_kcal, dtype: float64"
      ]
     },
     "execution_count": 57,
     "metadata": {},
     "output_type": "execute_result"
    }
   ],
   "execution_count": 57
  },
  {
   "metadata": {},
   "cell_type": "markdown",
   "source": [
    "<div style=\"border: 1px solid RGB(0,150,250);\" >\n",
    "<h3 style=\"margin: auto; padding: 20px; color: RGB(0,150,250); \">3.10 - Pays avec le plus de disponibilité par habitant</h3>\n",
    "</div>"
   ],
   "id": "b87262eea7fa8346"
  },
  {
   "cell_type": "code",
   "id": "63e835c6",
   "metadata": {
    "ExecuteTime": {
     "end_time": "2024-12-08T13:59:00.764423Z",
     "start_time": "2024-12-08T13:59:00.750845Z"
    }
   },
   "source": [
    "#Affichage des 10 pays qui ont le plus de dispo alimentaire par personne\n",
    "dispo_max = disponibilite_kcal_an.groupby('Zone')['dispo_kcal'].agg('sum').sort_values(ascending=False).head(10)\n",
    "dispo_max"
   ],
   "outputs": [
    {
     "data": {
      "text/plain": [
       "Zone\n",
       "Chine, continentale      1.614110e+15\n",
       "Inde                     1.199066e+15\n",
       "États-Unis d'Amérique    4.368912e+14\n",
       "Indonésie                2.681549e+14\n",
       "Brésil                   2.474532e+14\n",
       "Nigéria                  1.881056e+14\n",
       "Pakistan                 1.850095e+14\n",
       "Fédération de Russie     1.784781e+14\n",
       "Bangladesh               1.429735e+14\n",
       "Mexique                  1.397281e+14\n",
       "Name: dispo_kcal, dtype: float64"
      ]
     },
     "execution_count": 58,
     "metadata": {},
     "output_type": "execute_result"
    }
   ],
   "execution_count": 58
  },
  {
   "cell_type": "markdown",
   "id": "58d7248b",
   "metadata": {},
   "source": [
    "<div style=\"border: 1px solid RGB(0,150,250);\" >\n",
    "<h3 style=\"margin: auto; padding: 20px; color: RGB(0,150,250); \">3.11 - Exemple de la Thaïlande pour le Manioc</h3>\n",
    "</div>"
   ]
  },
  {
   "cell_type": "code",
   "id": "ec9ca912",
   "metadata": {
    "ExecuteTime": {
     "end_time": "2024-12-08T13:59:00.974320Z",
     "start_time": "2024-12-08T13:59:00.953287Z"
    }
   },
   "source": [
    "#création d'un dataframe avec uniquement la Thaïlande\n",
    "thailande_df = pop_nut.loc[pop_nut['Zone']=='Thaïlande',:]\n",
    "thailande_df\n"
   ],
   "outputs": [
    {
     "data": {
      "text/plain": [
       "          Zone  Population  sous_nutrition  proportion\n",
       "185  Thaïlande  69209810.0       6200000.0    0.089583"
      ],
      "text/html": [
       "<div>\n",
       "<style scoped>\n",
       "    .dataframe tbody tr th:only-of-type {\n",
       "        vertical-align: middle;\n",
       "    }\n",
       "\n",
       "    .dataframe tbody tr th {\n",
       "        vertical-align: top;\n",
       "    }\n",
       "\n",
       "    .dataframe thead th {\n",
       "        text-align: right;\n",
       "    }\n",
       "</style>\n",
       "<table border=\"1\" class=\"dataframe\">\n",
       "  <thead>\n",
       "    <tr style=\"text-align: right;\">\n",
       "      <th></th>\n",
       "      <th>Zone</th>\n",
       "      <th>Population</th>\n",
       "      <th>sous_nutrition</th>\n",
       "      <th>proportion</th>\n",
       "    </tr>\n",
       "  </thead>\n",
       "  <tbody>\n",
       "    <tr>\n",
       "      <th>185</th>\n",
       "      <td>Thaïlande</td>\n",
       "      <td>69209810.0</td>\n",
       "      <td>6200000.0</td>\n",
       "      <td>0.089583</td>\n",
       "    </tr>\n",
       "  </tbody>\n",
       "</table>\n",
       "</div>"
      ]
     },
     "execution_count": 59,
     "metadata": {},
     "output_type": "execute_result"
    }
   ],
   "execution_count": 59
  },
  {
   "cell_type": "code",
   "id": "85693912",
   "metadata": {
    "ExecuteTime": {
     "end_time": "2024-12-08T13:59:01.374025Z",
     "start_time": "2024-12-08T13:59:01.363200Z"
    }
   },
   "source": [
    "#Calcul de la sous nutrition en Thaïlande\n",
    "print('Proportion en sous nutrition en Thaïlande :', \"{:.2f}\".format(thailande_df['sous_nutrition'].iloc[0]*100/thailande_df['Population'].iloc[0]), \"%\")"
   ],
   "outputs": [
    {
     "name": "stdout",
     "output_type": "stream",
     "text": [
      "Proportion en sous nutrition en Thaïlande : 8.96 %\n"
     ]
    }
   ],
   "execution_count": 60
  },
  {
   "cell_type": "code",
   "id": "f19cd96e",
   "metadata": {
    "ExecuteTime": {
     "end_time": "2024-12-08T13:59:01.691951Z",
     "start_time": "2024-12-08T13:59:01.678529Z"
    }
   },
   "source": [
    "# On calcule la proportion exportée en fonction de la proportion\n",
    "thai_manioc = dispo_alimentaire.loc[(dispo_alimentaire['Produit'] == \"Manioc\") & (dispo_alimentaire['Zone'] == \"Thaïlande\"),:]\n",
    "print('Proportion de manioc exportée :', \"{:.2f}\".format(thai_manioc['Exportations - Quantité'].iloc[0]*100 /\n",
    "                                                                     thai_manioc['Production'].iloc[0]), \"%\")"
   ],
   "outputs": [
    {
     "name": "stdout",
     "output_type": "stream",
     "text": [
      "Proportion de manioc exportée : 83.41 %\n"
     ]
    }
   ],
   "execution_count": 61
  },
  {
   "cell_type": "markdown",
   "id": "7de4e914",
   "metadata": {},
   "source": [
    "<div style=\"background-color: RGB(0,150,250);\" >\n",
    "<h2 style=\"margin: auto; padding: 20px; color:#fff; \">Etape 6 - Analyse complémentaires</h2>\n",
    "</div>"
   ]
  },
  {
   "cell_type": "code",
   "id": "e42062e9",
   "metadata": {
    "ExecuteTime": {
     "end_time": "2024-12-08T13:59:01.867606Z",
     "start_time": "2024-12-08T13:59:01.858206Z"
    }
   },
   "source": [
    "#Rajouter en dessous toutes les analyses complémtaires suite à la demande de mélanie :\n",
    "#\"et toutes les infos que tu trouverais utiles pour mettre en relief les pays qui semblent être \n",
    "#le plus en difficulté au niveau alimentaire\".\n",
    "\n"
   ],
   "outputs": [],
   "execution_count": 62
  }
 ],
 "metadata": {
  "kernelspec": {
   "display_name": "Python 3",
   "language": "python",
   "name": "python3"
  },
  "language_info": {
   "codemirror_mode": {
    "name": "ipython",
    "version": 3
   },
   "file_extension": ".py",
   "mimetype": "text/x-python",
   "name": "python",
   "nbconvert_exporter": "python",
   "pygments_lexer": "ipython3",
   "version": "3.8.8"
  }
 },
 "nbformat": 4,
 "nbformat_minor": 5
}
